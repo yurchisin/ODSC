{
 "cells": [
  {
   "cell_type": "markdown",
   "metadata": {
    "slideshow": {
     "slide_type": "slide"
    }
   },
   "source": [
    "# Hello World of Optimization! \n",
    "Let's Make Some Casino Chips\n",
    "## Our task...\n",
    "We are in charge of chip production for a casino. \n",
    "- Management would like to make these new chips using the on-hand inventory of raw material. \n",
    "- Right now, we are asked to manufacture the **highest possible total value** in poker chips. \n",
    "- The denominations we can make are (in dollars) 1, 5, 10, 25, 100, 500, 1000.\n",
    "- Each denomination of chip requires a different amount of several raw materials.\n",
    "- We are limited to the amount of material **on hand**."
   ]
  },
  {
   "cell_type": "markdown",
   "metadata": {
    "slideshow": {
     "slide_type": "slide"
    }
   },
   "source": [
    "## Initial questions\n",
    "- What are our decisions?\n",
    "- What are our constraints? \n",
    "- What is the objective?\n",
    "- What data do we need right now?"
   ]
  },
  {
   "cell_type": "markdown",
   "metadata": {
    "slideshow": {
     "slide_type": "slide"
    }
   },
   "source": [
    "## The Model\n",
    "A lot of programming (in Python) is imperative -- just providing sequential instructions to complete. But mathematical optimization (aka math programming) is *declarative*. The math programming model does not tell the Gurobi solver what to do specifically. Instead, the model tells the Gurobi solver what the solution must look like. Gurobi then finds the solution in its own way.\n",
    "\n",
    "So math programming always starts with the creation of a new model. We then add to it the *declarations* about the final solution. \n",
    "\n",
    "Math optimization models take two forms:\n",
    "- The **formulation**: An algebraic representation of the model.\n",
    "- The **code**: Writing the formulation in syntax to some software package."
   ]
  },
  {
   "cell_type": "code",
   "execution_count": null,
   "metadata": {
    "slideshow": {
     "slide_type": "subslide"
    }
   },
   "outputs": [],
   "source": [
    "%pip install gurobipy\n",
    "\n",
    "import pandas as pd\n",
    "import gurobipy as gp\n",
    "from gurobipy import GRB"
   ]
  },
  {
   "cell_type": "code",
   "execution_count": null,
   "metadata": {
    "slideshow": {
     "slide_type": "fragment"
    }
   },
   "outputs": [],
   "source": [
    "model = gp.Model(\"Chip Manufacturing\")"
   ]
  },
  {
   "cell_type": "markdown",
   "metadata": {
    "slideshow": {
     "slide_type": "slide"
    }
   },
   "source": [
    "### The Variables\n",
    "\n",
    "The model needs something to receive the solution values that the solver finds. It declares *variables* to hold those solution values.  The mathematical optimization model never explicitly sets these values. It just describes them and makes rules about the values they can hold. This model declares a variable for each type of chip.\n",
    "\n",
    "Let $x_c$ be the number of chips made of type $c \\in \\{\\$1, \\$5, \\$10, \\$25, \\$100, \\$500, \\$1000\\}$.\n",
    "\n",
    "First, let's create data for each chip type and its value."
   ]
  },
  {
   "cell_type": "code",
   "execution_count": null,
   "metadata": {
    "slideshow": {
     "slide_type": "subslide"
    }
   },
   "outputs": [],
   "source": [
    "chips = [\"one\", \"five\", \"ten\", \"twenty-five\", \"one hundred\", \"five hundred\", \"thousand\"]\n",
    "data = pd.Series([1, 5, 10, 25, 100, 500, 1000], \n",
    "                  index=chips, \n",
    "                  name='value')\n",
    "data"
   ]
  },
  {
   "cell_type": "markdown",
   "metadata": {
    "slideshow": {
     "slide_type": "subslide"
    }
   },
   "source": [
    "#### Gurobipy has some easy ways to do manual data entry\n",
    "Using a [multidict](https://docs.gurobi.com/projects/optimizer/en/current/reference/python/func_global.html#multidict) object is a fast way to hardcode data in `gurobipy`."
   ]
  },
  {
   "cell_type": "code",
   "execution_count": null,
   "metadata": {
    "slideshow": {
     "slide_type": "subslide"
    }
   },
   "outputs": [],
   "source": [
    "chips, value = gp.multidict(\n",
    "    {\n",
    "        \"one\":             1,\n",
    "        \"five\":            5,\n",
    "        \"ten\":            10,\n",
    "        \"twenty-five\":    25,\n",
    "        \"one hundred\":   100,\n",
    "        \"five hundred\":  500,\n",
    "        \"thousand\":     1000\n",
    "    }\n",
    ")\n",
    "print(chips)\n",
    "print(value)"
   ]
  },
  {
   "cell_type": "markdown",
   "metadata": {
    "slideshow": {
     "slide_type": "slide"
    }
   },
   "source": [
    "Next, variables are added to the model -- one for each chip type. The main types of decision variables are\n",
    "- CONTINUOUS\n",
    "- INTEGER\n",
    "- BINARY\n",
    "\n",
    "But we'll explore more types later. "
   ]
  },
  {
   "cell_type": "markdown",
   "metadata": {
    "slideshow": {
     "slide_type": "slide"
    }
   },
   "source": [
    "#### What type of decision variable should we use in this case?"
   ]
  },
  {
   "cell_type": "code",
   "execution_count": null,
   "metadata": {
    "slideshow": {
     "slide_type": "fragment"
    }
   },
   "outputs": [],
   "source": [
    "x = model.addVars(chips, vtype = GRB.INTEGER, name = \"chips\")\n",
    "model.update()\n",
    "x"
   ]
  },
  {
   "cell_type": "markdown",
   "metadata": {
    "slideshow": {
     "slide_type": "slide"
    }
   },
   "source": [
    "### The Objective Function:\n",
    "\n",
    "The math model must describe an objective also using algebra. When the model is solved, the value of the objective function will be the maximum or minimum possible while following the rules described in the in constraints. \n",
    "\n",
    "This model will produce the highest possible value of chips. The objective function multiplies the quantity of each chip produced times its value and that for all chips.\n",
    "For example, the total value produced by \\\\$5 chips is $5*x_{five}$. \n",
    "\n",
    "So the total value is\n",
    "\n",
    "\\begin{equation*}\n",
    "x_{one} + 5*x_{five} + 10*x_{ten} + ... + 1000*x_{thousand}\n",
    "\\end{equation*}"
   ]
  },
  {
   "cell_type": "code",
   "execution_count": 6,
   "metadata": {
    "slideshow": {
     "slide_type": "fragment"
    }
   },
   "outputs": [],
   "source": [
    "### Written term by term:\n",
    "model.setObjective(x[\"one\"] * value[\"one\"] + x[\"five\"] * value[\"five\"] + x[\"ten\"] * value[\"ten\"]\n",
    "                    + x[\"twenty-five\"] * value[\"twenty-five\"] + x[\"one hundred\"] * value[\"one hundred\"] \n",
    "                    + x[\"five hundred\"] * value[\"five hundred\"] + x[\"thousand\"] * value[\"thousand\"], \n",
    "                    sense=GRB.MAXIMIZE)"
   ]
  },
  {
   "cell_type": "markdown",
   "metadata": {
    "slideshow": {
     "slide_type": "subslide"
    }
   },
   "source": [
    "Let $v_c$ be the value of chip $c$ and use a bit more math notation:\n",
    "\\begin{equation*}\n",
    "  \\text{Maximize} \\space \\sum_c v_c*x_c\n",
    "\\end{equation*}"
   ]
  },
  {
   "cell_type": "code",
   "execution_count": 7,
   "metadata": {
    "slideshow": {
     "slide_type": "fragment"
    }
   },
   "outputs": [],
   "source": [
    "### Here is another way to write the same thing:\n",
    "model.setObjective(gp.quicksum(x[i] * value[i] for i in chips), sense=GRB.MAXIMIZE)\n",
    "\n",
    "### The prod function is a handy function provided by the Gurobi API. \n",
    "model.setObjective(x.prod(value), sense=GRB.MAXIMIZE)"
   ]
  },
  {
   "cell_type": "markdown",
   "metadata": {
    "slideshow": {
     "slide_type": "slide"
    }
   },
   "source": [
    "### The Constraints:\n",
    "\n",
    "This casino has limited ingredients on hand to manufacture the chips needed. The model must make sure to only make chips for which the ingredients are available. \n",
    "\n",
    "Here is a list of ingredients and how much is needed for each type of chip:"
   ]
  },
  {
   "cell_type": "code",
   "execution_count": null,
   "metadata": {
    "slideshow": {
     "slide_type": "fragment"
    }
   },
   "outputs": [],
   "source": [
    "ingredients, on_hand = gp.multidict(\n",
    "    {\n",
    "        \"clay\":      5000,\n",
    "        \"lead\":      1800,\n",
    "        \"silver\":     100,\n",
    "        \"gold\":        20,\n",
    "    }\n",
    ")\n",
    "\n",
    "recipes = { \n",
    "        (\"one\",          \"clay\"):  18.0, (\"one\",          \"lead\"):  0.0, (\"one\",          \"silver\"):  0, (\"one\",          \"gold\"):  0, \n",
    "        (\"five\",         \"clay\"):  17.0, (\"five\",         \"lead\"):  2.0, (\"five\",         \"silver\"):  0, (\"five\",         \"gold\"):  0, \n",
    "        (\"ten\",          \"clay\"):  16.0, (\"ten\",          \"lead\"):  3.0, (\"ten\",          \"silver\"):  0, (\"ten\",          \"gold\"):  0, \n",
    "        (\"twenty-five\",  \"clay\"):  13.0, (\"twenty-five\",  \"lead\"):  4.5, (\"twenty-five\",  \"silver\"):  0, (\"twenty-five\",  \"gold\"):  0, \n",
    "        (\"one hundred\",  \"clay\"):  10.0, (\"one hundred\",  \"lead\"):  6.0, (\"one hundred\",  \"silver\"):  1, (\"one hundred\",  \"gold\"):  0, \n",
    "        (\"five hundred\", \"clay\"):  10.0, (\"five hundred\", \"lead\"):  8.5, (\"five hundred\", \"silver\"):  2, (\"five hundred\", \"gold\"):  0, \n",
    "        (\"thousand\",     \"clay\"):  10.0, (\"thousand\",     \"lead\"):  9.5, (\"thousand\",     \"silver\"):  0, (\"thousand\",     \"gold\"):  2, \n",
    "}\n",
    "print(ingredients)\n"
   ]
  },
  {
   "cell_type": "code",
   "execution_count": null,
   "metadata": {
    "slideshow": {
     "slide_type": "subslide"
    }
   },
   "outputs": [],
   "source": [
    "on_hand"
   ]
  },
  {
   "cell_type": "markdown",
   "metadata": {
    "slideshow": {
     "slide_type": "slide"
    }
   },
   "source": [
    "Let's introduce **constraints** to make sure we don't use more ingredients than we have on hand. Constraints are where the *rules* acting on decision variables are declared. \n",
    "\n",
    "For example, the amount of lead used for all chips made must be less than or equal to the total amount of lead on hand. \n",
    "\n",
    "\\begin{equation*}\n",
    "\\text{total lead used} \\le 1500\n",
    "\\end{equation*}\n",
    "\n",
    "Let's write an expression for the total lead used using our decision variable for lead, $x_{lead}$.\n",
    "\\begin{align*}\n",
    "\\text{total lead used} = \\space& lead_{one}* x_{one} + lead_{five}*x_{five} + ... + lead_{thousand}*x_{thousand} \\\\\n",
    "&lead_{one}* x_{one} +  lead_{five}*x_{five} + ... + lead_{thousand}*x_{thousand} \\le 1500\n",
    "\\end{align*}\n",
    "\n",
    "Given we stored this information in the `recipes` dictionary, we let $r_{c,i}$ be the amount of *ingredient* $i$ used in making *chip* $c$.\n",
    "\\begin{equation*}\n",
    "  r_{one, lead} * x_{one} + r_{five, lead}*x_{five} + ... + r_{thousand, lead}*x_{thousand} \\le 1500\n",
    "\\end{equation*}\n"
   ]
  },
  {
   "cell_type": "code",
   "execution_count": null,
   "metadata": {
    "slideshow": {
     "slide_type": "subslide"
    }
   },
   "outputs": [],
   "source": [
    "# A very explicit way to write these constraints:\n",
    "model.addConstr(x[\"one\"]  * recipes[\"one\", \"clay\"] + x[\"five\"]  * recipes[\"five\", \"clay\"] \n",
    "                + x[\"ten\"]  * recipes[\"ten\", \"clay\"] + x[\"twenty-five\"]  * recipes[\"twenty-five\", \"clay\"] \n",
    "                + x[\"one hundred\"]  * recipes[\"one hundred\", \"clay\"] + x[\"five hundred\"]  * recipes[\"five hundred\", \"clay\"] \n",
    "                + x[\"thousand\"] * recipes[\"thousand\", \"clay\"] <= on_hand[\"clay\"], \"clay limit\")\n",
    "\n",
    "model.addConstr(x[\"one\"]  * recipes[\"one\", \"lead\"] + x[\"five\"]  * recipes[\"five\", \"lead\"] \n",
    "                + x[\"ten\"]  * recipes[\"ten\", \"lead\"] + x[\"twenty-five\"]  * recipes[\"twenty-five\", \"lead\"] \n",
    "                + x[\"one hundred\"]  * recipes[\"one hundred\", \"lead\"] + x[\"five hundred\"]  * recipes[\"five hundred\", \"lead\"] \n",
    "                + x[\"thousand\"] * recipes[\"thousand\", \"lead\"] <= on_hand[\"lead\"], \"lead limit\")\n",
    "\n",
    "model.addConstr(x[\"one\"]  * recipes[\"one\", \"gold\"] + x[\"five\"]  * recipes[\"five\", \"gold\"] \n",
    "                + x[\"ten\"]  * recipes[\"ten\", \"gold\"] + x[\"twenty-five\"]  * recipes[\"twenty-five\", \"gold\"] \n",
    "                + x[\"one hundred\"]  * recipes[\"one hundred\", \"gold\"] + x[\"five hundred\"]  * recipes[\"five hundred\", \"gold\"] \n",
    "                + x[\"thousand\"] * recipes[\"thousand\", \"gold\"] <= on_hand[\"gold\"], \"gold limit\")\n",
    "\n",
    "model.addConstr(x[\"one\"]  * recipes[\"one\", \"silver\"] + x[\"five\"]  * recipes[\"five\", \"silver\"] \n",
    "                + x[\"ten\"]  * recipes[\"ten\", \"silver\"] + x[\"twenty-five\"]  * recipes[\"twenty-five\", \"silver\"] \n",
    "                + x[\"one hundred\"]  * recipes[\"one hundred\", \"silver\"] + x[\"five hundred\"]  * recipes[\"five hundred\", \"silver\"] \n",
    "                + x[\"thousand\"] * recipes[\"thousand\", \"silver\"] <= on_hand[\"silver\"], \"silver limit\")"
   ]
  },
  {
   "cell_type": "markdown",
   "metadata": {
    "slideshow": {
     "slide_type": "subslide"
    }
   },
   "source": [
    "We can also generalize the *quantity* of each ingredient with $q_i$. Then using a bit more mathematical notation:\n",
    "\\begin{equation*}\n",
    "  \\sum_{c}r_{c, i} * x_{c} \\le q_i, \\space \\text{for all} \\space i \\space \\text{in} \\space \\{\\text{clay, lead, silver, gold}\\}\n",
    "\\end{equation*}\n",
    "\n",
    "Note: A short way to write \"for all\" is using the symbol $\\forall$. Also, $\\in$ means \"in\", or \"an element of.\""
   ]
  },
  {
   "cell_type": "markdown",
   "metadata": {
    "slideshow": {
     "slide_type": "subslide"
    }
   },
   "source": [
    "We can change the code so it looks for like this condensed notation and loop through each ingredient using `quicksum`: "
   ]
  },
  {
   "cell_type": "code",
   "execution_count": 11,
   "metadata": {
    "slideshow": {
     "slide_type": "fragment"
    }
   },
   "outputs": [],
   "source": [
    "for ingredient in ingredients:\n",
    "    model.addConstr(gp.quicksum(x[c] * recipes[c, ingredient] for c in chips) <= on_hand[ingredient], name=\"ingredients usage\")"
   ]
  },
  {
   "cell_type": "markdown",
   "metadata": {
    "slideshow": {
     "slide_type": "fragment"
    }
   },
   "source": [
    "A little more compact, and makes it easier to store the constraints as an object:"
   ]
  },
  {
   "cell_type": "code",
   "execution_count": 12,
   "metadata": {
    "slideshow": {
     "slide_type": "fragment"
    }
   },
   "outputs": [],
   "source": [
    "balance_constraints = model.addConstrs((gp.quicksum(x[c] * recipes[c, i] for c in chips) <= on_hand[i] for i in ingredients), name=\"ingredients usage\")"
   ]
  },
  {
   "cell_type": "markdown",
   "metadata": {
    "slideshow": {
     "slide_type": "subslide"
    }
   },
   "source": [
    "#### Note!\n",
    "If you get the following error...\n",
    "```python\n",
    "SyntaxError: Generator expression must be parenthesized\n",
    "```\n",
    "...make sure you have everything before `, name=` in parentheses. "
   ]
  },
  {
   "cell_type": "markdown",
   "metadata": {
    "slideshow": {
     "slide_type": "slide"
    }
   },
   "source": [
    "### The Solution:\n",
    "It's as simple as one line of code to run the optimization, then we query the decision variables for their values (assuming the optimization completed successfully)"
   ]
  },
  {
   "cell_type": "code",
   "execution_count": null,
   "metadata": {
    "slideshow": {
     "slide_type": "fragment"
    }
   },
   "outputs": [],
   "source": [
    "model.optimize()"
   ]
  },
  {
   "cell_type": "code",
   "execution_count": null,
   "metadata": {
    "slideshow": {
     "slide_type": "subslide"
    }
   },
   "outputs": [],
   "source": [
    "# use `VarName` and `X` to get the variables name and value, respectively:\n",
    "for v in model.getVars():\n",
    "    print(f\"{v.VarName}: {v.X}\")"
   ]
  },
  {
   "cell_type": "markdown",
   "metadata": {
    "slideshow": {
     "slide_type": "slide"
    }
   },
   "source": [
    "Do you think another (and simpler) approach may work for this specific version of the problem?"
   ]
  },
  {
   "cell_type": "markdown",
   "metadata": {
    "slideshow": {
     "slide_type": "fragment"
    }
   },
   "source": [
    "## Congratulations!\n",
    "You have just ran an optimization model!"
   ]
  }
 ],
 "metadata": {
  "kernelspec": {
   "display_name": "gurobi_ml",
   "language": "python",
   "name": "python3"
  },
  "language_info": {
   "codemirror_mode": {
    "name": "ipython",
    "version": 3
   },
   "file_extension": ".py",
   "mimetype": "text/x-python",
   "name": "python",
   "nbconvert_exporter": "python",
   "pygments_lexer": "ipython3",
   "version": "3.11.6"
  }
 },
 "nbformat": 4,
 "nbformat_minor": 4
}
