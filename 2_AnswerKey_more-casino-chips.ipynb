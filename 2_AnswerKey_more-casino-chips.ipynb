{
 "cells": [
  {
   "cell_type": "markdown",
   "id": "09e61b40",
   "metadata": {},
   "source": [
    "# More Realistic Problems\n",
    "Where we left off, a greedy approach would have worked to solve that model. But problems typically have much more complicated business rules to follow -- which highlights the strengths of mathematical optimization. In this section, we'll use our handy **cheat sheet** to help model some of these scenarios."
   ]
  },
  {
   "cell_type": "markdown",
   "id": "e53dee6a",
   "metadata": {},
   "source": [
    "## Pick up where we left off\n",
    "When setting up the problem the first time we used `multidict` to create parts of our model. This time, let's read data in from a csv. "
   ]
  },
  {
   "cell_type": "code",
   "execution_count": 1,
   "id": "a2b100b4-d6c0-48ea-bb65-0962f786008e",
   "metadata": {
    "scrolled": true
   },
   "outputs": [
    {
     "name": "stdout",
     "output_type": "stream",
     "text": [
      "Requirement already satisfied: gurobipy in /Users/yurchisin/opt/anaconda3/envs/gurobi_ml/lib/python3.11/site-packages (11.0.0)\n",
      "Note: you may need to restart the kernel to use updated packages.\n",
      "/bin/bash: wget: command not found\n"
     ]
    }
   ],
   "source": [
    "%pip install gurobipy\n",
    "\n",
    "import pandas as pd\n",
    "import gurobipy as gp\n",
    "from gurobipy import GRB\n",
    "\n",
    "### We have a helper function to solve and report values for our x decision variable\n",
    "### If you download an run locally, you can get rid of the single line below\n",
    "!wget -q https://raw.githubusercontent.com/yurchisin/ODSC2024/refs/heads/main/solve_and_report.py\n",
    "from solve_and_report import *\n",
    "\n",
    "### This time, we read in data from csv\n",
    "on_hand = pd.read_csv('data_files/ing_amounts.csv', index_col=['ingredient']).squeeze()\n",
    "chips_data = pd.read_csv('data_files/chips_data.csv', index_col=['chips']).squeeze()\n",
    "recipes = pd.read_csv('data_files/recipes.csv', index_col=['chips', 'ingredients']).squeeze()\n",
    "\n",
    "ingredients = on_hand.index.to_list()\n",
    "chips = chips_data.index.to_list()"
   ]
  },
  {
   "cell_type": "markdown",
   "id": "ce76c01c-f7b3-41d7-b338-7e46eba3a1f3",
   "metadata": {},
   "source": [
    "## Original model"
   ]
  },
  {
   "cell_type": "markdown",
   "id": "992041c3",
   "metadata": {},
   "source": [
    "As a reminder:\n",
    "- $x_c$ is the number of chips to make of denomination $c \\in \\{\\$1, \\$5, \\$10, \\$25, \\$100, \\$500, \\$1000\\}$.\n",
    "- $v_c$ is the value associated with each chip.\n",
    "- $q_i$ is the amount of ingredient $i \\in \\{\\text{clay, lead, silver, gold}\\}$ we have on hand.\n",
    "- $r_{c,i}$ is the amount of **ingredient** $i$ used to make **chip** $c$. \n",
    "\n",
    "\\begin{align*}\n",
    "&\\text{Maximize} \\space \\sum_c v_c*x_c \\\\\n",
    "&\\text{subject to:} \\\\\n",
    "&\\quad\\sum_{c}r_{c, i} * x_{c} \\le q_i, \\space \\text{for} \\space i \\in \\{\\text{clay, lead, silver, gold}\\} \\\\\n",
    "&\\quad x_c \\ge 0, \\forall c \\in \\text{Chips}\n",
    "\\end{align*}"
   ]
  },
  {
   "cell_type": "code",
   "execution_count": 6,
   "id": "55880d72",
   "metadata": {},
   "outputs": [
    {
     "name": "stdout",
     "output_type": "stream",
     "text": [
      "Optimal solution found\n",
      "Objective value: 42143.0\n",
      "chips[one]: 38.0\n",
      "chips[five]: 1.0\n",
      "chips[ten]: 0.0\n",
      "chips[twenty-five]: 284.0\n",
      "chips[one hundred]: 0.0\n",
      "chips[five hundred]: 50.0\n",
      "chips[thousand]: 10.0\n"
     ]
    }
   ],
   "source": [
    "### Create a new model\n",
    "model = gp.Model(\"Poker Chips\")\n",
    "\n",
    "### Decision variables\n",
    "x = model.addVars(chips, vtype=GRB.INTEGER, name=\"chips\")\n",
    "\n",
    "### Ingredient constraint\n",
    "ingredient_usage = model.addConstrs((gp.quicksum(x[c] * recipes[c, i] for c in chips) <= on_hand[i] for i in ingredients), name=\"ingredient_usage\")\n",
    "\n",
    "### Objective function\n",
    "model.setObjective(gp.quicksum(x[i] * chips_data.value[i] for i in chips), sense=GRB.MAXIMIZE)\n",
    "\n",
    "### Our helper function for this session:\n",
    "solve_and_print_solution(model)"
   ]
  },
  {
   "cell_type": "markdown",
   "id": "1b589aec-1d12-4c0a-9c3f-0fe0c46c4f55",
   "metadata": {
    "jp-MarkdownHeadingCollapsed": true
   },
   "source": [
    "## Decision expressions\n",
    "Some times it is helpful to store quantities of interest to help make code easier to read, reduce clutter, or get key values quickly. For now, let's make an expression for the total number of chips made. \n",
    "\n",
    "Mathematically, let's first define the set and then the algebraic expression.  \n",
    "- $C = \\{\\$1, \\$5, \\$10, \\$25, \\$100\\, \\$500, \\$1000\\}$\n",
    "\n",
    "\\begin{align*}\n",
    "\\text{total chips} &= \\sum_{c \\in C} x_c,\n",
    "\\end{align*}"
   ]
  },
  {
   "cell_type": "code",
   "execution_count": 21,
   "id": "aad0c981-4498-4fc4-8930-860b75e5d5e5",
   "metadata": {
    "scrolled": true
   },
   "outputs": [],
   "source": [
    "total_chips  = gp.quicksum(x[c] for c in chips)\n",
    "model.update()"
   ]
  },
  {
   "cell_type": "code",
   "execution_count": null,
   "id": "04745bc6",
   "metadata": {},
   "outputs": [],
   "source": [
    "### Test your expressions here\n",
    "total_chips.getValue()"
   ]
  },
  {
   "cell_type": "markdown",
   "id": "92410c11-de39-4447-9de3-43545710d77f",
   "metadata": {},
   "source": [
    "## Changing our model"
   ]
  },
  {
   "cell_type": "markdown",
   "id": "fd6966af",
   "metadata": {
    "jp-MarkdownHeadingCollapsed": true
   },
   "source": [
    "### New objective function\n",
    "Instead of maximizing the total chip value, we are asked to maximize the total number of chips made. Write out and code this new objective."
   ]
  },
  {
   "cell_type": "markdown",
   "id": "a567c7b1",
   "metadata": {},
   "source": [
    "\\begin{equation*}\n",
    "\\text{Maximize} \\space \\sum_{c \\in C} x_c\n",
    "\\end{equation*}"
   ]
  },
  {
   "cell_type": "code",
   "execution_count": null,
   "id": "fb04171e-a370-48cc-8c76-1cdfc953f68f",
   "metadata": {},
   "outputs": [],
   "source": [
    "### Set the objective to maximize the number of chips\n",
    "model.setObjective(total_chips, GRB.MAXIMIZE)\n",
    "\n",
    "solve_and_print_solution(model)"
   ]
  },
  {
   "cell_type": "markdown",
   "id": "7fff75ce",
   "metadata": {},
   "source": [
    "Note that we didn't have to do anything else other than re-run `setObjective`. "
   ]
  },
  {
   "cell_type": "markdown",
   "id": "5555dda7-d71b-4903-bccf-44fb50c99911",
   "metadata": {
    "jp-MarkdownHeadingCollapsed": true
   },
   "source": [
    "### Meet minimum demand requirements\n",
    "- View the chips data dataframe.\n",
    "- Write constraints and code to meet a minimum demand for each chip value. "
   ]
  },
  {
   "cell_type": "code",
   "execution_count": null,
   "id": "acf5e370",
   "metadata": {},
   "outputs": [],
   "source": [
    "### Print each chip here\n",
    "chips_data"
   ]
  },
  {
   "cell_type": "markdown",
   "id": "86facee7",
   "metadata": {},
   "source": [
    "Let $d_c$ be the demand for chip $c$.\n",
    "\\begin{equation*}\n",
    "x_c \\ge d_c, \\forall c \\in C\n",
    "\\end{equation*}"
   ]
  },
  {
   "cell_type": "code",
   "execution_count": null,
   "id": "9060de75-3de7-471f-a925-a0090aa7a3c9",
   "metadata": {},
   "outputs": [],
   "source": [
    "### Ensure the production meets the minimal chip demand\n",
    "meet_demand = model.addConstrs((x[c] >= chips_data.demand[c] for c in chips), name=\"meet_demand\")\n",
    "\n",
    "solve_and_print_solution(model)"
   ]
  },
  {
   "cell_type": "markdown",
   "id": "ace0c40b-6924-483a-97fc-1e7d26fed11b",
   "metadata": {
    "jp-MarkdownHeadingCollapsed": true
   },
   "source": [
    "### Cost of making chips:\n",
    "- In the data frame above, we see there is a production cost per chip made. Write an expression for the total *variable cost* of chips made. \n",
    "- Add another constraint that limits the total variable cost to 80.\n",
    "- Note that the demand constraints from before will still be active. "
   ]
  },
  {
   "cell_type": "markdown",
   "id": "ea18e462",
   "metadata": {},
   "source": [
    "Let $a_c$ be the variable cost of chip $c$. \n",
    "\\begin{align*}\n",
    "\\text{total variable cost} = &\\sum_c a_c*x_c  \\\\\n",
    "\\sum_c a_c*x_c \\le 80\n",
    "\\end{align*}"
   ]
  },
  {
   "cell_type": "code",
   "execution_count": null,
   "id": "a4e0b036-1a5f-4725-9942-f1c71aeb5baa",
   "metadata": {},
   "outputs": [],
   "source": [
    "### Variable cost chip making cost\n",
    "vCost_all_chips = sum(chips_data.cost[c] * x[c] for c in chips)\n",
    "vBudget = model.addConstr(vCost_all_chips <= 80, name='v_budget')\n",
    "\n",
    "solve_and_print_solution(model)"
   ]
  },
  {
   "cell_type": "markdown",
   "id": "d87da342-31b2-4d28-a57e-3623b3d520b7",
   "metadata": {
    "jp-MarkdownHeadingCollapsed": true
   },
   "source": [
    "### Fixed costs: More decision variables\n",
    "Our production machine can only make chips of one value at a time. When we want to switch, it takes time to setup with new materials, which adds a fixed cost to each chip value. Given this, we have to decide whether or not we want to make each type of chip. If we decide to make at least one \\$10 chip, then we incur a cost of 30. \n",
    "\n",
    "Let's go step-by-step to add in the fixed costs for each chip and minimize the total costs, while meeting the above demand.\n",
    "- First define a new set of variables indexed by chip type and call them as `y`.\n",
    "- Write a constraint that links the number of chips made with the new binary variable (**HINT:** use the cheat sheet). \n",
    "- Don't resolve yet. \n"
   ]
  },
  {
   "cell_type": "markdown",
   "id": "af4cf326",
   "metadata": {},
   "source": [
    "Let $f_c$ be the fixed cost of chip $c$ and $y_c = 1$ if chip $c$ is made, $0$ otherwise. \n",
    "\n",
    "If we decide to make a \\$10 chip, then $x_{ten} > 0$ and we want to have the associated cost go from 0 to 30. \n",
    "\n",
    "So the constraint is\n",
    "\\begin{equation*}\n",
    "x_c \\le M*y_c, \\forall c \\in C\n",
    "\\end{equation*}\n",
    "\n",
    "But what do we choose for $M$?\n"
   ]
  },
  {
   "cell_type": "code",
   "execution_count": 27,
   "id": "baaa5568-654b-43f2-81fb-c01210760ffe",
   "metadata": {},
   "outputs": [],
   "source": [
    "y = model.addVars(chips, vtype=GRB.BINARY, name=\"make\")\n",
    "\n",
    "### Link binary variable to chip production using `big-M` constraints\n",
    "M = 500\n",
    "model.addConstrs((x[c] <= M * y[c] for c in chips), name=\"link_x_y\")\n",
    "model.update()"
   ]
  },
  {
   "cell_type": "markdown",
   "id": "e2115be5",
   "metadata": {
    "jp-MarkdownHeadingCollapsed": true
   },
   "source": [
    "### Fixed costs: Combining costs\n",
    "- Write an expression that finds the total fixed costs using the new variable and the `fixed_cost` column from `chips_data`.\n",
    "- Add another constraint that limits the total cost to 280.\n",
    "- Solve!"
   ]
  },
  {
   "cell_type": "markdown",
   "id": "182241b2",
   "metadata": {},
   "source": [
    "\\begin{align*}\n",
    "&\\text{total fixed cost} = \\sum_c f_c*y_c  \\\\\n",
    "\\text{total cost} = \\space&\\text{total fixed cost}  + \\text{total variable cost} = \\sum_c f_c*y_c + a_c*x_c \n",
    "\\end{align*}"
   ]
  },
  {
   "cell_type": "code",
   "execution_count": null,
   "id": "177b80ef",
   "metadata": {},
   "outputs": [],
   "source": [
    "fCost_all_chips = gp.quicksum(chips_data.fixed_cost[c] * y[c] for c in chips)\n",
    "tCost_all_chips = vCost_all_chips + fCost_all_chips\n",
    "\n",
    "tBudget = model.addConstr(tCost_all_chips <= 280, name='t_budget')\n",
    "\n",
    "solve_and_print_solution(model)"
   ]
  },
  {
   "cell_type": "markdown",
   "id": "dfd540d0",
   "metadata": {},
   "source": [
    "Suppose due circumstances beyond our control, we can't produce all seven types of chips.  This means we can't meet demand as given, so let's remove that constraint."
   ]
  },
  {
   "cell_type": "code",
   "execution_count": 29,
   "id": "519010f3",
   "metadata": {},
   "outputs": [],
   "source": [
    "model.remove(meet_demand)"
   ]
  },
  {
   "cell_type": "markdown",
   "id": "6fbc258d",
   "metadata": {},
   "source": [
    "### Using binary variables to control production"
   ]
  },
  {
   "cell_type": "markdown",
   "id": "a66603a5",
   "metadata": {},
   "source": [
    "Specifically, these circumstances say we can produce at most five, but at least three types. Write two constraints using the new `y` decision variables to model that and then solve. "
   ]
  },
  {
   "cell_type": "code",
   "execution_count": null,
   "id": "bbdf02a5",
   "metadata": {},
   "outputs": [],
   "source": [
    "min_types = model.addConstr(y.sum() >= 3, name=\"min_types\")\n",
    "max_types = model.addConstr(y.sum() <= 5, name=\"max_types\")\n",
    "\n",
    "solve_and_print_solution(model)"
   ]
  },
  {
   "cell_type": "markdown",
   "id": "d36db0e4",
   "metadata": {},
   "source": [
    "# Extra Practice\n",
    "It turns out the last request came from some folks who didn't believe mathematical optimization models can be changed so quickly to adjust to new scenarios and wanted to test us. Let's practice modeling additional scenarios so we're well prepared for anything. \n",
    "\n",
    "First, let's remind ourselves of initial model, but *maximizing total chips* made. "
   ]
  },
  {
   "cell_type": "code",
   "execution_count": 41,
   "id": "62a5e7f4",
   "metadata": {},
   "outputs": [],
   "source": [
    "### re-create a new model with max total chips made obj\n",
    "model = gp.Model(\"Poker Chips\")\n",
    "x = model.addVars(chips, vtype=GRB.INTEGER, name=\"chips\")\n",
    "ingredient_usage = model.addConstrs((gp.quicksum(x[c] * recipes[c, i] for c in chips) <= on_hand[i] for i in ingredients), name=\"ingredient_usage\")\n",
    "total_chips  = x.sum()\n",
    "model.setObjective(total_chips, GRB.MAXIMIZE)"
   ]
  },
  {
   "cell_type": "markdown",
   "id": "47ed163d",
   "metadata": {},
   "source": [
    "## More decision expressions\n",
    "\n",
    "Suppose we have grouped chip types into two categories: low and high value. High value chips are \\$100, \\$500, and \\$1000, with the rest being low value. \n",
    "\n",
    "Define the sets and code the expressions as we did earlier."
   ]
  },
  {
   "cell_type": "markdown",
   "id": "1a5ce5ec",
   "metadata": {},
   "source": [
    "Let's define more sets. \n",
    "- $H = \\{\\$100, \\$500, \\$1000\\}$\n",
    "- $L = C - H$\n",
    "\n",
    "\\begin{align*}\n",
    "\\text{value of total chips} &= \\sum_{c \\in C} v_c*x_c   \\\\\n",
    "\\text{value of high chips} &= \\sum_{h \\in H} v_h * x_h    \\\\\n",
    "\\text{value of low chips} &= \\sum_{l \\in L} v_l*x_l    \\\\\n",
    "\\end{align*}"
   ]
  },
  {
   "cell_type": "code",
   "execution_count": 42,
   "id": "cdb99f58",
   "metadata": {},
   "outputs": [],
   "source": [
    "high_chips = ['one hundred','five hundred', 'thousand']\n",
    "low_chips = [c for c in chips if c not in high_chips]\n",
    "\n",
    "### While we use `quicksum` here, thought there are more compact ways to write these. \n",
    "val_total_chips  = gp.quicksum(chips_data.value[c] * x[c] for c in chips)\n",
    "val_high_chips = gp.quicksum(chips_data.value[c] * x[c] for c in high_chips)\n",
    "val_low_chips  = gp.quicksum(chips_data.value[c] * x[c] for c in low_chips)"
   ]
  },
  {
   "cell_type": "markdown",
   "id": "2282b386-f697-4fb5-98d5-66b19342b86c",
   "metadata": {
    "jp-MarkdownHeadingCollapsed": true
   },
   "source": [
    "### Proportion of total chips\n",
    "\n",
    "#### Formulate and code the following constraints\n",
    "- The value produced by high value chips cannot exceed the 50% of the value produced by low value chips.\n",
    "- Each of the of high value chips must be at least 5% of the total chips made and each of the low value chips cannot be more than 20%. \n",
    "- The \\$25 chip is our most used; make sure that it has the maximum number among all chips.\n",
    "- Limit any single chip type to 30% of total chips produced."
   ]
  },
  {
   "cell_type": "markdown",
   "id": "b1a638d4",
   "metadata": {},
   "source": [
    "\\begin{equation*}\n",
    "\\sum_{h \\in H} v_h*x_h \\le 0.5*\\sum_{l \\in L} v_l*x_l\n",
    "\\end{equation*}"
   ]
  },
  {
   "cell_type": "code",
   "execution_count": null,
   "id": "c5a61274",
   "metadata": {},
   "outputs": [],
   "source": [
    "### The value produced by high value chips cannot exceed the 50% of the value produced by low value chips\n",
    "value_balance = model.addConstr(val_high_chips <= .5*val_low_chips, name='value_balance')\n",
    "\n",
    "solve_and_print_solution(model)"
   ]
  },
  {
   "cell_type": "markdown",
   "id": "2a016e9b",
   "metadata": {},
   "source": [
    "We stored each constraint as an object, which makes it easier to interact with these later. Now, let's remove the `value_balance` constraint. "
   ]
  },
  {
   "cell_type": "code",
   "execution_count": 44,
   "id": "b73b88cd",
   "metadata": {},
   "outputs": [],
   "source": [
    "model.remove(value_balance)"
   ]
  },
  {
   "cell_type": "markdown",
   "id": "b180edab",
   "metadata": {},
   "source": [
    "\\begin{align*}\n",
    "x_{l} \\le& 0.20*\\sum_{c \\in C} x_c, \\forall l\\in L \\\\\n",
    "x_{h} \\ge& 0.05*\\sum_{c \\in C} x_c, \\forall h\\in H \\\\\n",
    "\\end{align*}"
   ]
  },
  {
   "cell_type": "code",
   "execution_count": null,
   "id": "c27bc00d-da0d-44a2-b17d-4d7f5b3341d7",
   "metadata": {},
   "outputs": [],
   "source": [
    "low_chip_ub = model.addConstrs((x[l] <= 0.20 * total_chips for l in low_chips), name='low_chip_ub')\n",
    "high_chip_lb = model.addConstrs((x[h] >= 0.05 * total_chips for h in high_chips), name='high_chip_lb')\n",
    "\n",
    "solve_and_print_solution(model)"
   ]
  },
  {
   "cell_type": "markdown",
   "id": "f2fca70c",
   "metadata": {},
   "source": [
    "\\begin{align*}\n",
    "x_{twenty-five} \\ge x_{c}, \\forall c \\in C-\\{\\$25\\}.\n",
    "\\end{align*}"
   ]
  },
  {
   "cell_type": "code",
   "execution_count": null,
   "id": "9160518c",
   "metadata": {},
   "outputs": [],
   "source": [
    "### Use this set since this constraint doesn't need to apply to $25\n",
    "C_minus25 = [cc for cc in chips if cc != 'twenty-five']\n",
    "\n",
    "max_25 = model.addConstrs((x['twenty-five'] >= x[c] for c in C_minus25), name='max_25')\n",
    "\n",
    "solve_and_print_solution(model)"
   ]
  },
  {
   "cell_type": "markdown",
   "id": "2341522a",
   "metadata": {},
   "source": [
    "\\begin{align*}\n",
    "x_{c} \\le 0.3*\\sum_cx_{c}, \\forall c \\in C\n",
    "\\end{align*}"
   ]
  },
  {
   "cell_type": "code",
   "execution_count": null,
   "id": "93a76ec8",
   "metadata": {},
   "outputs": [],
   "source": [
    "percent30 = model.addConstrs((x[c] <= 0.3*total_chips for c in chips), name='percent30')"
   ]
  },
  {
   "cell_type": "markdown",
   "id": "4851db6e",
   "metadata": {
    "jp-MarkdownHeadingCollapsed": true
   },
   "source": [
    "### Let's check in on our model and remove some constraints\n",
    "As you code a model, you may want to make sure adding variables, constraints, and the objective all go as planned."
   ]
  },
  {
   "cell_type": "code",
   "execution_count": null,
   "id": "22570dcf",
   "metadata": {},
   "outputs": [],
   "source": [
    "### Print the model object to get a quick summary\n",
    "print(model)\n",
    "\n",
    "### Writing a *.lp file is a great way to get a look at your model\n",
    "model.write('our_model.lp')"
   ]
  },
  {
   "cell_type": "markdown",
   "id": "1be7cf4d",
   "metadata": {},
   "source": [
    "The `Slack` of a constraint is the gap between the left-hand side and right-hand side values at the optimal solution. Printing this for the `ingredient_usage` constraints will show how much of each material is remaining. "
   ]
  },
  {
   "cell_type": "code",
   "execution_count": null,
   "id": "409ab2ec",
   "metadata": {},
   "outputs": [],
   "source": [
    "for i in ingredients:\n",
    "    print(f\"Remaining {i}: {ingredient_usage[i].Slack}\")"
   ]
  },
  {
   "cell_type": "code",
   "execution_count": 50,
   "id": "7fe9f825",
   "metadata": {},
   "outputs": [],
   "source": [
    "model.remove([low_chip_ub, high_chip_lb, max_25])\n",
    "model.update()"
   ]
  },
  {
   "cell_type": "code",
   "execution_count": null,
   "id": "535c0daf",
   "metadata": {},
   "outputs": [],
   "source": [
    "model.getConstrs()"
   ]
  },
  {
   "cell_type": "markdown",
   "id": "cee2bf3b-4d5b-4bdf-a8dd-6b1dea821b0b",
   "metadata": {
    "jp-MarkdownHeadingCollapsed": true
   },
   "source": [
    "### Logical constraints with binary variables\n",
    "Now that we have binary decision variables that show which chip types are made, we can model logical relationships between them. Model the following statements and write `gurobipy` code. \n",
    "\n",
    "We won't solve a model with these. \n",
    "- We **can** make either \\$500 **or** \\$1000 chips, and **possibly both** (at least one).\n",
    "- We **must** make either \\$500 **or** \\$1000 chips, but **not both** (exactly one).\n",
    "- We make between 2 and 3 types of low value. "
   ]
  },
  {
   "cell_type": "code",
   "execution_count": 52,
   "id": "7267bba2",
   "metadata": {},
   "outputs": [],
   "source": [
    "### add our binary decision variables and corresponding logic. \n",
    "y = model.addVars(chips, vtype=GRB.BINARY, name=\"make\")\n",
    "M = 500\n",
    "model.addConstrs((x[c] <= M * y[c] for c in chips), name=\"link_x_y\")\n",
    "model.update()"
   ]
  },
  {
   "cell_type": "markdown",
   "id": "123c2f45",
   "metadata": {},
   "source": [
    "- We **can** make either \\$500 **or** \\$1000 chips, and **possibly both** (at least one).\n",
    "\\begin{equation*}\n",
    "y_{five\\space hundred} + y_{thousand} \\le 1 \n",
    "\\end{equation*}\n",
    "\n",
    "- We **must** make either \\$500 **or** \\$1000 chips, but **not both** (exactly one).\n",
    "\\begin{equation*}\n",
    "y_{five\\space hundred} + y_{thousand} = 1 \n",
    "\\end{equation*}\n",
    "\n",
    "- We make between 2 and 3 types of low value. \n",
    "\\begin{equation*}\n",
    "2 \\le \\sum_l y_l \\le 3\n",
    "\\end{equation*}"
   ]
  },
  {
   "cell_type": "code",
   "execution_count": null,
   "id": "745af8e4-fe09-4834-b4a3-bb0389731133",
   "metadata": {},
   "outputs": [],
   "source": [
    "# We can make either $500 or $1000 chips, but not both (at most one)\n",
    "model.addConstr(y['five hundred'] + y['thousand'] <= 1, name=\"at_most_one_high_value\")\n",
    "\n",
    "# We must make either $500 or $1000 chips, but not both (exactly one)\n",
    "model.addConstr(y['five hundred'] + y['thousand'] == 1, name=\"exactly_one_high_value\")\n",
    "\n",
    "# We make between 2 and 3 types of low value and exactly one of the high value chips\n",
    "model.addConstr(gp.quicksum(y[l] for l in low_chips) >= 2, name=\"min_low_value_types\")\n",
    "model.addConstr(gp.quicksum(y[l] for l in low_chips) <= 3, name=\"max_low_value_types\")\n",
    "\n",
    "### Another shortcut using the gurobipy API\n",
    "model.addConstr(gp.quicksum(y[l] for l in low_chips) == [2,3], name=\"max_low_value_types\")\n"
   ]
  },
  {
   "cell_type": "markdown",
   "id": "e42bd8f5-1afd-4b74-aa17-4b8d338b52f5",
   "metadata": {
    "jp-MarkdownHeadingCollapsed": true
   },
   "source": [
    "### Conditional statements\n",
    "- If we make \\$1 chips, then we **must** make \\$5 chips.\n",
    "- If we make \\$1 chips, then we **must** make \\$5 **and** \\$10 chips.\n",
    "- If we make \\$1 chips, then we **must** make \\$5 **or** \\$10 chips (or both). "
   ]
  },
  {
   "cell_type": "markdown",
   "id": "aaa2c2b1",
   "metadata": {},
   "source": [
    "- If we make \\$1 chips, then we **must** make \\$5 chips.\n",
    "\\begin{align*}\n",
    "y_{one} &\\le y_{five} \\quad\\quad\\quad\\space\n",
    "\\end{align*}\n",
    "\n",
    "- If we make \\$1 chips, then we **must** make \\$5 **and** \\$10 chips.\n",
    "\n",
    "\\begin{align*}\n",
    "y_{one} &\\le y_{five}, \\\\\n",
    "y_{one} &\\le y_{ten} \\\\\n",
    "&\\text{or} \\\\\n",
    "2*y_{one} &\\le y_{five} + y_{ten}\n",
    "\\end{align*}\n",
    "\n",
    "- If we make \\$1 chips, then we **must** make \\$5 **or** \\$10 chips (or both). \n",
    "\n",
    "\\begin{align*}\n",
    "\\quad y_{one} &\\le y_{five} + y_{ten}\n",
    "\\end{align*}\n"
   ]
  },
  {
   "cell_type": "code",
   "execution_count": null,
   "id": "3353e541-0fa9-4a86-9fcc-0dd1e4cde025",
   "metadata": {},
   "outputs": [],
   "source": [
    "#### Logistical constraint candidates:\n",
    "\n",
    "### If we make $1 chips, then we must make $5 chips\n",
    "model.addConstr(y['one'] <= y['five'], name=\"one_implies_five\")\n",
    "\n",
    "### If we make $1 chips, then we must make $5 and $10 chips\n",
    "model.addConstr(y['one'] <= y['five'], name=\"one_implies_five\")\n",
    "model.addConstr(y['one'] <= y['ten'], name=\"one_implies_ten\")\n",
    "\n",
    "model.addConstr(2*y['one'] <= y['five'] + y['ten'], name=\"one_implies_ten\")\n",
    "\n",
    "### If we make $1 chips, then we must make $5 or $10 chips\n",
    "model.addConstr(y['one'] <= y['five'] + y['ten'], name=\"one_implies_ten\")"
   ]
  },
  {
   "cell_type": "markdown",
   "id": "36a53799-a103-4d61-ad7b-f9b42b42e52e",
   "metadata": {
    "jp-MarkdownHeadingCollapsed": true
   },
   "source": [
    "## Semi-continuous and semi-integer variables\n",
    "\n",
    "### Using 'big M'\n",
    "- For each high value chip, if we make them, then we need to make between 5 and 30 (inclusive)\n",
    "- For each lower value chip, if we make them, then we need to make at least 100\n"
   ]
  },
  {
   "cell_type": "markdown",
   "id": "a6781619",
   "metadata": {},
   "source": [
    "\\begin{align*}\n",
    "5*y_h &\\le x_h \\le 30*y_h,\\forall h \\in H  \\\\\n",
    "50*y_l &\\le x_l \\le M*y_l,\\forall l \\in L\n",
    "\\end{align*}"
   ]
  },
  {
   "cell_type": "code",
   "execution_count": null,
   "id": "a3d79565-f701-4dee-be61-d7b8ac87fcad",
   "metadata": {},
   "outputs": [],
   "source": [
    "#### Using big M\n",
    "### Constraint: For each high value chip, if we make them, then we need to make between 5 and 20 (inclusive)\n",
    "min_high_value = model.addConstrs((x[c] >= 2 * y[c] for c in high_chips), name=\"min_high_value\")\n",
    "max_high_value = model.addConstrs((x[c] <= 30 * y[c] for c in high_chips), name=\"max_high_value\")\n",
    "\n",
    "### Constraint: For each low value chip, if we make them, then we need to make at least 100\n",
    "min_low_value = model.addConstrs((x[c] >= 30 * y[c] for c in low_chips), name=\"min_low_value\")\n",
    "min_low_value = model.addConstrs((x[c] <= M * y[c] for c in low_chips), name=\"min_low_value\")"
   ]
  },
  {
   "cell_type": "markdown",
   "id": "5cf94654-2dda-4fe7-89a8-3c3b65a25866",
   "metadata": {},
   "source": [
    "### Using gurobipy semi-integer variable \n",
    "We won't run this, but we see how we can add these variables"
   ]
  },
  {
   "cell_type": "code",
   "execution_count": null,
   "id": "cf0ed8f2",
   "metadata": {},
   "outputs": [],
   "source": [
    "x = {}\n",
    "for c in high_chips:\n",
    "    x[c] = model.addVar(vtype=GRB.SEMIINT, lb=5, ub=30, name=f\"chips_{c}\")\n",
    "\n",
    "for c in low_chips:\n",
    "    x[c] = model.addVar(vtype=GRB.SEMIINT, lb=100, ub=M, name=f\"chips_{c}\")"
   ]
  },
  {
   "cell_type": "markdown",
   "id": "4e4a53a3-8534-437c-9a46-32f6f0eaca1e",
   "metadata": {
    "jp-MarkdownHeadingCollapsed": true
   },
   "source": [
    "## Multi-objective optimization\n",
    "- We are asked to maximize the total chip value made while minimizing costs. \n",
    "- Math optimization cannot **simultaneously** work on two objectives -- there's always a tradeoff. \n",
    "- Two types on multi-objective: hierarchical, and weighted (blended). Consult your **cheat sheet** for more. \n",
    "- After talking more about how we want to prioritize the objectives, we want to:\n",
    "    - First maximize the **total number of chips** made. \n",
    "    - Then maximize the total value of chips produced while not decreasing the number of chips made by more than 10%\n",
    "- Also include the following constraints we already discussed:\n",
    "    - Ingredient limits\n",
    "    - Limit any single chip type to 30% of total\n",
    "    - Overall cost must be less than 280"
   ]
  },
  {
   "cell_type": "markdown",
   "id": "c18e2847",
   "metadata": {},
   "source": [
    "### DIY hierarchical multi-objective optimzation\n",
    "- Solve the a model that maximizes the total number of chips made.\n",
    "- Add a new constraint that uses this objective value as a new bound on this decision expression. Let $z$ be this value.\n",
    "\\begin{equation*}\n",
    "\\sum_c x_c \\ge 0.9*z\n",
    "\\end{equation*}\n",
    "- Set the new objective to minimize total cost, as before. \n",
    "- Solve!"
   ]
  },
  {
   "cell_type": "code",
   "execution_count": 21,
   "id": "81f9b39f",
   "metadata": {},
   "outputs": [
    {
     "name": "stdout",
     "output_type": "stream",
     "text": [
      "Optimal solution found\n",
      "Objective value: 367.0\n",
      "chips[one]: 0.0\n",
      "chips[five]: 47.0\n",
      "chips[ten]: 110.0\n",
      "chips[twenty-five]: 110.0\n",
      "chips[one hundred]: 100.0\n",
      "chips[five hundred]: 0.0\n",
      "chips[thousand]: 0.0\n",
      "make[one]: 1.0\n",
      "make[five]: 1.0\n",
      "make[ten]: 1.0\n",
      "make[twenty-five]: 1.0\n",
      "make[one hundred]: 1.0\n",
      "make[five hundred]: 0.0\n",
      "make[thousand]: 0.0\n"
     ]
    }
   ],
   "source": [
    "model = gp.Model(\"Poker Chips\")\n",
    "\n",
    "M = 500\n",
    "\n",
    "### Decision variables\n",
    "x = model.addVars(chips, vtype=GRB.INTEGER, name=\"chips\")\n",
    "y = model.addVars(chips, vtype=GRB.BINARY, name=\"make\")\n",
    "\n",
    "### Other sets and expressions\n",
    "high_chips = ['one hundred','five hundred', 'thousand']\n",
    "low_chips = [c for c in chips if c not in high_chips]\n",
    "\n",
    "total_chips = x.sum()\n",
    "val_total_chips  = gp.quicksum(chips_data.value[c] * x[c] for c in chips)\n",
    "val_high_chips = gp.quicksum(chips_data.value[c] * x[c] for c in high_chips)\n",
    "val_low_chips  = gp.quicksum(chips_data.value[c] * x[c] for c in low_chips)\n",
    "vCost_all_chips = gp.quicksum(chips_data.cost[c] * x[c] for c in chips)\n",
    "fCost_all_chips = gp.quicksum(chips_data.fixed_cost[c] * y[c] for c in chips)\n",
    "tCost_all_chips = vCost_all_chips + fCost_all_chips\n",
    "\n",
    "### Constraints\n",
    "ingredient_usage = model.addConstrs((gp.quicksum(x[c] * recipes[c, i] for c in chips) <= on_hand[i] for i in ingredients), name=\"ingredient_usage\")\n",
    "#max_25 = model.addConstrs((x['twenty-five'] >= x[c] for c in [cc for cc in chips if cc != 'twenty-five']), name='max_25')\n",
    "percent30 = model.addConstrs((x[c] <= 0.3*total_chips for c in chips), name='percent30')\n",
    "link_x_y = model.addConstrs((x[c] <= M * y[c] for c in chips), name=\"link_x_y\")\n",
    "tBudget = model.addConstr(tCost_all_chips <= 220, name='t_budget')\n",
    "\n",
    "### First Objective\n",
    "model.setObjective(total_chips, sense=GRB.MAXIMIZE)\n",
    "\n",
    "solve_and_print_solution(model)"
   ]
  },
  {
   "cell_type": "code",
   "execution_count": 18,
   "id": "f52c1688",
   "metadata": {},
   "outputs": [
    {
     "name": "stdout",
     "output_type": "stream",
     "text": [
      "367.0\n",
      "Optimal solution found\n",
      "Objective value: 29050.0\n",
      "chips[one]: 0.0\n",
      "chips[five]: 89.0\n",
      "chips[ten]: 103.0\n",
      "chips[twenty-five]: 103.0\n",
      "chips[one hundred]: 0.0\n",
      "chips[five hundred]: 50.0\n",
      "chips[thousand]: 0.0\n",
      "make[one]: 0.0\n",
      "make[five]: 1.0\n",
      "make[ten]: 1.0\n",
      "make[twenty-five]: 1.0\n",
      "make[one hundred]: 0.0\n",
      "make[five hundred]: 1.0\n",
      "make[thousand]: 0.0\n"
     ]
    }
   ],
   "source": [
    "z = model.ObjVal\n",
    "print(z)\n",
    "multi_obj = model.addConstr(total_chips >= 0.9*z)\n",
    "model.setObjective(val_total_chips, sense=GRB.MAXIMIZE)\n",
    "solve_and_print_solution(model)"
   ]
  },
  {
   "cell_type": "markdown",
   "id": "0e6a32b1",
   "metadata": {},
   "source": [
    "#### Homework!\n",
    "Use the **cheat sheet** to do this using the `gurobipy` multi-objective functionality."
   ]
  },
  {
   "cell_type": "code",
   "execution_count": null,
   "id": "5d3aba76",
   "metadata": {},
   "outputs": [],
   "source": [
    "model.dispose()"
   ]
  }
 ],
 "metadata": {
  "kernelspec": {
   "display_name": "gurobi_ml",
   "language": "python",
   "name": "python3"
  },
  "language_info": {
   "codemirror_mode": {
    "name": "ipython",
    "version": 3
   },
   "file_extension": ".py",
   "mimetype": "text/x-python",
   "name": "python",
   "nbconvert_exporter": "python",
   "pygments_lexer": "ipython3",
   "version": "3.11.6"
  }
 },
 "nbformat": 4,
 "nbformat_minor": 5
}
