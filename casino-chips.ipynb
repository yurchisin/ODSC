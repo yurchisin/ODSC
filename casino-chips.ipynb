{
 "cells": [
  {
   "cell_type": "markdown",
   "metadata": {},
   "source": [
    "# Hello World of Optimization! \n",
    "Let's Make Some Casino Chips\n",
    "## Our task...\n",
    "We are in charge of chip production for a casino. \n",
    "- Management would like to make these new chips using the on-hand inventory of raw material. \n",
    "- Right now, we are asked to manufacture the **highest possible total value** in poker chips. \n",
    "- The denominations we can make are \\\\$1, \\\\$5, \\\\$10, \\\\$25, \\\\$100, \\\\$500, \\$1000.\n",
    "- Each denomination of chip requires a different amount of several raw materials.\n",
    "- We are limited to the amount of material **on hand**. \n",
    "\n",
    "## Initial questions\n",
    "- What are our decisions?\n",
    "- What are our constraints? \n",
    "- What is the objective?\n",
    "- What data do we need right now?"
   ]
  },
  {
   "cell_type": "markdown",
   "metadata": {},
   "source": [
    "## The Model\n",
    "A lot of programming (in Python) is *imperative* -- just providing sequential instructions to complete. But mathematical optimization (aka math programming) is *declarative*. The math programming model does not tell the Gurobi solver what to do specifically. Instead, the model tells the Gurobi solver what the solution must look like. Gurobi then finds the solution in its own way.\n",
    "\n",
    "So math programming always starts with the creation of a new model. We then add to it the *declarations* about the final solution. \n",
    "\n",
    "Math optimization models take two forms:\n",
    "- The **formulation**: An algebraic representation of the model (what we saw in our introduction!)\n",
    "- The **code**: Writing the formulation in syntax to some software package."
   ]
  },
  {
   "cell_type": "code",
   "execution_count": 22,
   "metadata": {},
   "outputs": [],
   "source": [
    "#%pip install gurobipy\n",
    "\n",
    "import pandas as pd\n",
    "import gurobipy as gp\n",
    "from gurobipy import GRB"
   ]
  },
  {
   "cell_type": "code",
   "execution_count": 23,
   "metadata": {},
   "outputs": [],
   "source": [
    "model = gp.Model(\"Chip Manufacturing\")"
   ]
  },
  {
   "cell_type": "markdown",
   "metadata": {},
   "source": [
    "### The Variables\n",
    "\n",
    "The model needs something to receive the solution values that the solver finds. It declares *variables* to hold those solution values.  The mathematical optimization model never explicitly sets these values. It just describes them and makes rules about the values they can hold. This model declares a variable for each type of chip.\n",
    "\n",
    "Let $x_c$ be the number of chips made of type $c \\in \\{\\$1, \\$5, \\$10, \\$25, \\$100, \\$500, \\$1000\\}$.\n",
    "\n",
    "First, let's create data for each chip type and its value."
   ]
  },
  {
   "cell_type": "code",
   "execution_count": 24,
   "metadata": {},
   "outputs": [
    {
     "data": {
      "text/plain": [
       "one                1\n",
       "five               5\n",
       "ten               10\n",
       "twenty-five       25\n",
       "one hundred      100\n",
       "five hundred     500\n",
       "thousand        1000\n",
       "Name: value, dtype: int64"
      ]
     },
     "execution_count": 24,
     "metadata": {},
     "output_type": "execute_result"
    }
   ],
   "source": [
    "chips = [\"one\", \"five\", \"ten\", \"twenty-five\", \"one hundred\", \"five hundred\", \"thousand\"]\n",
    "data = pd.Series([1, 5, 10, 25, 100, 500, 1000], \n",
    "                  index=chips, \n",
    "                  name='value')\n",
    "data"
   ]
  },
  {
   "cell_type": "markdown",
   "metadata": {},
   "source": [
    "#### Anyone know another way to hardcode this another way?... using a `gurobipy` object?\n",
    "**Multidict** function splits one dictionary into multiple, allowing for easier access to data while model building"
   ]
  },
  {
   "cell_type": "code",
   "execution_count": 25,
   "metadata": {},
   "outputs": [],
   "source": [
    "chips, value = gp.multidict(\n",
    "    {\n",
    "        \"one\":             1,\n",
    "        \"five\":            5,\n",
    "        \"ten\":            10,\n",
    "        \"twenty-five\":    25,\n",
    "        \"one hundred\":   100,\n",
    "        \"five hundred\":  500,\n",
    "        \"thousand\":     1000\n",
    "    }\n",
    ")"
   ]
  },
  {
   "cell_type": "code",
   "execution_count": 26,
   "metadata": {},
   "outputs": [
    {
     "name": "stdout",
     "output_type": "stream",
     "text": [
      "['one', 'five', 'ten', 'twenty-five', 'one hundred', 'five hundred', 'thousand']\n"
     ]
    }
   ],
   "source": [
    "print(chips)"
   ]
  },
  {
   "cell_type": "code",
   "execution_count": 27,
   "metadata": {},
   "outputs": [
    {
     "name": "stdout",
     "output_type": "stream",
     "text": [
      "{'one': 1, 'five': 5, 'ten': 10, 'twenty-five': 25, 'one hundred': 100, 'five hundred': 500, 'thousand': 1000}\n"
     ]
    }
   ],
   "source": [
    "print(value)"
   ]
  },
  {
   "cell_type": "markdown",
   "metadata": {},
   "source": [
    "Next, variables are added to the model -- one for each chip type. The main types of decision variables are\n",
    "- CONTINUOUS\n",
    "- INTEGER\n",
    "- BINARY\n",
    "\n",
    "But we'll explore more types later. "
   ]
  },
  {
   "cell_type": "markdown",
   "metadata": {},
   "source": [
    "#### What type of decision variable should we use in this case?\n",
    "- Our decisions are the *number of chips* we should make for each chip"
   ]
  },
  {
   "cell_type": "code",
   "execution_count": 28,
   "metadata": {},
   "outputs": [
    {
     "data": {
      "text/plain": [
       "{'one': <gurobi.Var chips[one]>,\n",
       " 'five': <gurobi.Var chips[five]>,\n",
       " 'ten': <gurobi.Var chips[ten]>,\n",
       " 'twenty-five': <gurobi.Var chips[twenty-five]>,\n",
       " 'one hundred': <gurobi.Var chips[one hundred]>,\n",
       " 'five hundred': <gurobi.Var chips[five hundred]>,\n",
       " 'thousand': <gurobi.Var chips[thousand]>}"
      ]
     },
     "execution_count": 28,
     "metadata": {},
     "output_type": "execute_result"
    }
   ],
   "source": [
    "x = model.addVars(chips, vtype = GRB.INTEGER, name = \"chips\")\n",
    "model.update()\n",
    "x"
   ]
  },
  {
   "cell_type": "markdown",
   "metadata": {},
   "source": [
    "### The Objective Function:\n",
    "\n",
    "The math model must describe an objective also using algebra. When the model is solved, the value of the objective function will be the maximum or minimum possible while following the rules described in the constraints. \n",
    "\n",
    "This model will produce the highest possible value of chips. The objective function *multiplies the quantity of each chip produced times its value and that for all chips.\n",
    "For example, the total value produced* by \\$5 chips is $5*x_{five}$. \n",
    "\n",
    "So the total value is\n",
    "\n",
    "\\begin{equation*}\n",
    "1*x_{one} + 5*x_{five} + 10*x_{ten} + ... + 1000*x_{thousand}\n",
    "\\end{equation*}"
   ]
  },
  {
   "cell_type": "code",
   "execution_count": 29,
   "metadata": {},
   "outputs": [],
   "source": [
    "### Option 1 - Written term by term:\n",
    "model.setObjective(x[\"one\"] * value[\"one\"] + \n",
    "                   x[\"five\"] * value[\"five\"] + \n",
    "                   x[\"ten\"] * value[\"ten\"] + \n",
    "                   x[\"twenty-five\"] * value[\"twenty-five\"] + \n",
    "                   x[\"one hundred\"] * value[\"one hundred\"] + \n",
    "                   x[\"five hundred\"] * value[\"five hundred\"] + \n",
    "                   x[\"thousand\"] * value[\"thousand\"], \n",
    "                    sense=GRB.MAXIMIZE)"
   ]
  },
  {
   "cell_type": "markdown",
   "metadata": {},
   "source": [
    "Let $v_c$ be the value of chip $c$ and use a bit more math notation:\n",
    "\\begin{equation*}\n",
    "  \\text{Maximize} \\space \\sum_c v_c*x_c\n",
    "\\end{equation*}"
   ]
  },
  {
   "cell_type": "code",
   "execution_count": 30,
   "metadata": {},
   "outputs": [],
   "source": [
    "### Option 2 - Here is another way to write the same thing:\n",
    "model.setObjective(gp.quicksum(x[i] * value[i] for i in chips), sense=GRB.MAXIMIZE)\n",
    "\n",
    "### Option 3-  The prod function is a handy function provided by the Gurobi API. \n",
    "model.setObjective(x.prod(value), sense=GRB.MAXIMIZE)"
   ]
  },
  {
   "cell_type": "markdown",
   "metadata": {},
   "source": [
    "### The Constraints:\n",
    "\n",
    "This casino has limited ingredients on hand to manufacture the chips needed. The model must make sure to only make chips for which the ingredients are available. \n",
    "\n",
    "Here is a list of ingredients and how much is needed for each type of chip:"
   ]
  },
  {
   "cell_type": "code",
   "execution_count": 31,
   "metadata": {},
   "outputs": [],
   "source": [
    "ingredients, on_hand = gp.multidict(\n",
    "    {\n",
    "        \"clay\":      5000,\n",
    "        \"lead\":      1500,\n",
    "        \"silver\":     500,\n",
    "        \"gold\":        50,\n",
    "    }\n",
    ")"
   ]
  },
  {
   "cell_type": "code",
   "execution_count": 32,
   "metadata": {},
   "outputs": [
    {
     "name": "stdout",
     "output_type": "stream",
     "text": [
      "['clay', 'lead', 'silver', 'gold']\n",
      "{'clay': 5000, 'lead': 1500, 'silver': 500, 'gold': 50}\n"
     ]
    }
   ],
   "source": [
    "print(ingredients)\n",
    "print(on_hand)"
   ]
  },
  {
   "cell_type": "code",
   "execution_count": 33,
   "metadata": {},
   "outputs": [],
   "source": [
    "recipes = { \n",
    "        (\"one\",          \"clay\"):  18.0, (\"one\",          \"lead\"):  0.0, (\"one\",          \"silver\"):  0, (\"one\",          \"gold\"):  0, \n",
    "        (\"five\",         \"clay\"):  16.0, (\"five\",         \"lead\"):  1.0, (\"five\",         \"silver\"):  0, (\"five\",         \"gold\"):  0, \n",
    "        (\"ten\",          \"clay\"):  15.0, (\"ten\",          \"lead\"):  2.0, (\"ten\",          \"silver\"):  0, (\"ten\",          \"gold\"):  0, \n",
    "        (\"twenty-five\",  \"clay\"):  13.0, (\"twenty-five\",  \"lead\"):  4.5, (\"twenty-five\",  \"silver\"):  0, (\"twenty-five\",  \"gold\"):  0, \n",
    "        (\"one hundred\",  \"clay\"):  10.0, (\"one hundred\",  \"lead\"):  6.0, (\"one hundred\",  \"silver\"):  1, (\"one hundred\",  \"gold\"):  0, \n",
    "        (\"five hundred\", \"clay\"):  10.0, (\"five hundred\", \"lead\"):  8.5, (\"five hundred\", \"silver\"):  2, (\"five hundred\", \"gold\"):  0, \n",
    "        (\"thousand\",     \"clay\"):  10.0, (\"thousand\",     \"lead\"):  9.5, (\"thousand\",     \"silver\"):  0, (\"thousand\",     \"gold\"):  2, \n",
    "}"
   ]
  },
  {
   "cell_type": "code",
   "execution_count": 34,
   "metadata": {},
   "outputs": [
    {
     "data": {
      "text/plain": [
       "1.0"
      ]
     },
     "execution_count": 34,
     "metadata": {},
     "output_type": "execute_result"
    }
   ],
   "source": [
    "recipes['five', 'lead']"
   ]
  },
  {
   "cell_type": "markdown",
   "metadata": {},
   "source": [
    "Let's introduce **constraints** to make sure we don't use more ingredients than we have on hand. Constraints are where the *rules* acting on decision variables are declared. \n",
    "\n",
    "For example, the amount of lead used for all chips made must be less than or equal to the total amount of lead on hand. \n",
    "\n",
    "\\begin{equation*}\n",
    "\\text{total lead used} \\le 1500\n",
    "\\end{equation*}\n",
    "\n",
    "Let's write an expression for the total lead used using our decision variable for lead, $x_{lead}$.\n",
    "\\begin{align*}\n",
    "\\text{total lead used} = \\space& lead_{one}* x_{one} + lead_{five}*x_{five} + ... + lead_{thousand}*x_{thousand} \\\\\n",
    "&lead_{one}* x_{one} +  lead_{five}*x_{five} + ... + lead_{thousand}*x_{thousand} \\le 1500\n",
    "\\end{align*}\n",
    "\n",
    "Given we stored this information in the `recipes` dictionary, we let $r_{c,i}$ be the amount of *ingredient* $i$ used in making *chip* $c$.\n",
    "\\begin{equation*}\n",
    "  r_{one, lead} * x_{one} + r_{five, lead}*x_{five} + ... + r_{thousand, lead}*x_{thousand} \\le 1500\n",
    "\\end{equation*}\n"
   ]
  },
  {
   "cell_type": "code",
   "execution_count": 35,
   "metadata": {},
   "outputs": [
    {
     "data": {
      "text/plain": [
       "<gurobi.Constr *Awaiting Model Update*>"
      ]
     },
     "execution_count": 35,
     "metadata": {},
     "output_type": "execute_result"
    }
   ],
   "source": [
    "### Option 1 - A very explicit way to write these constraints:\n",
    "\n",
    "# total clay <= clay on hand \n",
    "model.addConstr(x[\"one\"]  * recipes[\"one\", \"clay\"] + x[\"five\"]  * recipes[\"five\", \"clay\"] \n",
    "                + x[\"ten\"]  * recipes[\"ten\", \"clay\"] + x[\"twenty-five\"]  * recipes[\"twenty-five\", \"clay\"] \n",
    "                + x[\"one hundred\"]  * recipes[\"one hundred\", \"clay\"] + x[\"five hundred\"]  * recipes[\"five hundred\", \"clay\"] \n",
    "                + x[\"thousand\"] * recipes[\"thousand\", \"clay\"] <= on_hand[\"clay\"], \"clay limit\")\n",
    "\n",
    "# total lead <= lead on hand \n",
    "model.addConstr(x[\"one\"]  * recipes[\"one\", \"lead\"] + x[\"five\"]  * recipes[\"five\", \"lead\"] \n",
    "                + x[\"ten\"]  * recipes[\"ten\", \"lead\"] + x[\"twenty-five\"]  * recipes[\"twenty-five\", \"lead\"] \n",
    "                + x[\"one hundred\"]  * recipes[\"one hundred\", \"lead\"] + x[\"five hundred\"]  * recipes[\"five hundred\", \"lead\"] \n",
    "                + x[\"thousand\"] * recipes[\"thousand\", \"lead\"] <= on_hand[\"lead\"], \"lead limit\")\n",
    "\n",
    "# total gold <= gold on hand \n",
    "model.addConstr(x[\"one\"]  * recipes[\"one\", \"gold\"] + x[\"five\"]  * recipes[\"five\", \"gold\"] \n",
    "                + x[\"ten\"]  * recipes[\"ten\", \"gold\"] + x[\"twenty-five\"]  * recipes[\"twenty-five\", \"gold\"] \n",
    "                + x[\"one hundred\"]  * recipes[\"one hundred\", \"gold\"] + x[\"five hundred\"]  * recipes[\"five hundred\", \"gold\"] \n",
    "                + x[\"thousand\"] * recipes[\"thousand\", \"gold\"] <= on_hand[\"gold\"], \"gold limit\")\n",
    "\n",
    "# total silver <= silver on hand \n",
    "model.addConstr(x[\"one\"]  * recipes[\"one\", \"silver\"] + x[\"five\"]  * recipes[\"five\", \"silver\"] \n",
    "                + x[\"ten\"]  * recipes[\"ten\", \"silver\"] + x[\"twenty-five\"]  * recipes[\"twenty-five\", \"silver\"] \n",
    "                + x[\"one hundred\"]  * recipes[\"one hundred\", \"silver\"] + x[\"five hundred\"]  * recipes[\"five hundred\", \"silver\"] \n",
    "                + x[\"thousand\"] * recipes[\"thousand\", \"silver\"] <= on_hand[\"silver\"], \"silver limit\")"
   ]
  },
  {
   "cell_type": "markdown",
   "metadata": {},
   "source": [
    "We can also generalize the *quantity* of each ingredient with $q_i$. Then using a bit more mathematical notation:\n",
    "\\begin{equation*}\n",
    "  \\sum_{c}r_{c, i} * x_{c} \\le q_i, \\space \\text{for all} \\space i \\space \\text{in} \\space \\{\\text{clay, lead, silver, gold}\\}\n",
    "\\end{equation*}\n",
    "\n",
    "Note: A short way to write \"for all\" is using the symbol $\\forall$. Also, $\\in$ means \"in\", or \"an element of.\" We saw this notation in the intro."
   ]
  },
  {
   "cell_type": "markdown",
   "metadata": {},
   "source": [
    "Where the following can be found using recipes[('five', 'lead')]\n",
    "\\begin{equation*} r_{5, lead} \\end{equation*} "
   ]
  },
  {
   "cell_type": "markdown",
   "metadata": {},
   "source": [
    "We can change the code so it looks for like this condensed notation and loop through each ingredient using `quicksum`: "
   ]
  },
  {
   "cell_type": "code",
   "execution_count": 36,
   "metadata": {},
   "outputs": [],
   "source": [
    "### Option 2 - Using quicksum\n",
    "for ingredient in ingredients:\n",
    "    model.addConstr(gp.quicksum(x[c] * recipes[c, ingredient] for c in chips) <= on_hand[ingredient], name=\"ingredients usage\")"
   ]
  },
  {
   "cell_type": "markdown",
   "metadata": {},
   "source": [
    "A little more compact, and makes it easier to store the constraints as an object:"
   ]
  },
  {
   "cell_type": "code",
   "execution_count": 37,
   "metadata": {},
   "outputs": [],
   "source": [
    "### Option 2 - Using quicksum and storing constraint as an object \n",
    "balance_constraints = model.addConstrs((gp.quicksum(x[c] * recipes[c, i] for c in chips) <= on_hand[i] for i in ingredients), name=\"ingredients usage\")"
   ]
  },
  {
   "cell_type": "markdown",
   "metadata": {},
   "source": [
    "### The Solution:\n",
    "It's as simple as one line of code to run the optimization, then we query the decision variables for their values (assuming the optimization completed successfully)"
   ]
  },
  {
   "cell_type": "code",
   "execution_count": 38,
   "metadata": {},
   "outputs": [
    {
     "name": "stdout",
     "output_type": "stream",
     "text": [
      "Gurobi Optimizer version 12.0.1 build v12.0.1rc0 (mac64[arm] - Darwin 24.6.0 24G231)\n",
      "\n",
      "CPU model: Apple M3 Pro\n",
      "Thread count: 11 physical cores, 11 logical processors, using up to 11 threads\n",
      "\n",
      "WLS license 2620953 - registered to Gurobi Optimization LLC\n",
      "Optimize a model with 12 rows, 7 columns and 48 nonzeros\n",
      "Model fingerprint: 0x499ca2fd\n",
      "Variable types: 0 continuous, 7 integer (0 binary)\n",
      "Coefficient statistics:\n",
      "  Matrix range     [1e+00, 2e+01]\n",
      "  Objective range  [1e+00, 1e+03]\n",
      "  Bounds range     [0e+00, 0e+00]\n",
      "  RHS range        [5e+01, 5e+03]\n",
      "Found heuristic solution: objective 302.0000000\n",
      "Presolve removed 10 rows and 0 columns\n",
      "Presolve time: 0.00s\n",
      "Presolved: 2 rows, 7 columns, 13 nonzeros\n",
      "Variable types: 0 continuous, 7 integer (0 binary)\n",
      "\n",
      "Root relaxation: objective 9.944608e+04, 4 iterations, 0.00 seconds (0.00 work units)\n",
      "\n",
      "    Nodes    |    Current Node    |     Objective Bounds      |     Work\n",
      " Expl Unexpl |  Obj  Depth IntInf | Incumbent    BestBd   Gap | It/Node Time\n",
      "\n",
      "     0     0 99446.0784    0    2  302.00000 99446.0784      -     -    0s\n",
      "H    0     0                    99181.000000 99446.0784  0.27%     -    0s\n",
      "H    0     0                    99205.000000 99446.0784  0.24%     -    0s\n",
      "     0     0          -    0      99205.0000 99205.9444  0.00%     -    0s\n",
      "\n",
      "Explored 1 nodes (4 simplex iterations) in 0.01 seconds (0.00 work units)\n",
      "Thread count was 11 (of 11 available processors)\n",
      "\n",
      "Solution count 3: 99205 99181 302 \n",
      "\n",
      "Optimal solution found (tolerance 1.00e-04)\n",
      "Best objective 9.920500000000e+04, best bound 9.920594444444e+04, gap 0.0010%\n"
     ]
    }
   ],
   "source": [
    "model.optimize()"
   ]
  },
  {
   "cell_type": "code",
   "execution_count": 39,
   "metadata": {},
   "outputs": [
    {
     "name": "stdout",
     "output_type": "stream",
     "text": [
      "chips[one]: 180.0\n",
      "chips[five]: 0.0\n",
      "chips[ten]: 0.0\n",
      "chips[twenty-five]: 1.0\n",
      "chips[one hundred]: -0.0\n",
      "chips[five hundred]: 148.0\n",
      "chips[thousand]: 25.0\n"
     ]
    }
   ],
   "source": [
    "# use `VarName` and `X` to get the variables name and value, respectively:\n",
    "for v in model.getVars():\n",
    "    print(f\"{v.VarName}: {v.X}\")"
   ]
  },
  {
   "cell_type": "markdown",
   "metadata": {},
   "source": [
    "Do you think another (and simpler) approach may work for this specific version of the problem?"
   ]
  },
  {
   "cell_type": "markdown",
   "metadata": {},
   "source": [
    "## Congratulations!\n",
    "You have just ran an optimization model!"
   ]
  },
  {
   "cell_type": "markdown",
   "metadata": {},
   "source": [
    "# More Realistic Problems\n",
    "Where we left off, a greedy approach would have worked to solve that model. But problems typically have much more complicated business rules to follow -- which highlights the strengths of mathematical optimzation. "
   ]
  },
  {
   "cell_type": "markdown",
   "metadata": {},
   "source": [
    "## Let's Create a function to make solving and reporting a bit more straightforward\n",
    "\n"
   ]
  },
  {
   "cell_type": "code",
   "execution_count": 40,
   "metadata": {},
   "outputs": [
    {
     "name": "stdout",
     "output_type": "stream",
     "text": [
      "Requirement already satisfied: gurobipy in /Library/Frameworks/Python.framework/Versions/3.12/lib/python3.12/site-packages (12.0.1)\n",
      "Note: you may need to restart the kernel to use updated packages.\n"
     ]
    }
   ],
   "source": [
    "%pip install gurobipy\n",
    "\n",
    "import pandas as pd\n",
    "import gurobipy as gp\n",
    "from gurobipy import GRB"
   ]
  },
  {
   "cell_type": "code",
   "execution_count": 41,
   "metadata": {},
   "outputs": [],
   "source": [
    "def solve_and_print_solution(model,x,chips):\n",
    "    # Optimize model\n",
    "    model.setParam(\"outputflag\", 0)\n",
    "    model.optimize()\n",
    "    \n",
    "    # Check the model status\n",
    "    if model.status == GRB.OPTIMAL:\n",
    "        print(\"Optimal solution found\")\n",
    "        # Print the results\n",
    "        for v in model.getVars():\n",
    "            print(f\"{v.VarName}: {v.X}\")\n",
    "        print(f\"Objective value: {model.objVal}\")\n",
    "    else:\n",
    "        print(f\"Model status: {model.status}\")\n",
    "        sys.exit(1)\n"
   ]
  },
  {
   "cell_type": "markdown",
   "metadata": {},
   "source": [
    "## Pick up where we left off\n",
    "When setting up the problem the first time we used `multidict` to create parts of our model. This time, let's read data in from a csv. "
   ]
  },
  {
   "cell_type": "code",
   "execution_count": 42,
   "metadata": {},
   "outputs": [],
   "source": [
    "### This time, we read in data from csv\n",
    "on_hand = pd.read_csv('data_files/ing_amounts.csv', index_col=['ingredient']).squeeze()\n",
    "chips_data = pd.read_csv('data_files/chips_data.csv', index_col=['chips']).squeeze()\n",
    "recipes = pd.read_csv('data_files/recipes.csv', index_col=['chips', 'ingredients']).squeeze()\n",
    "\n",
    "ingredients = on_hand.index.to_list()\n",
    "chips = chips_data.index.to_list()"
   ]
  },
  {
   "cell_type": "markdown",
   "metadata": {},
   "source": [
    "## Original model"
   ]
  },
  {
   "cell_type": "markdown",
   "metadata": {},
   "source": [
    "As a reminder:\n",
    "- $x_c$ is the number of chips to make of denomination $c \\in \\{\\$1, \\$5, \\$10, \\$25, \\$100, \\$500, \\$1000\\}$.\n",
    "- $v_c$ is the value associated with each chip.\n",
    "- $q_i$ is the amount of ingredient $i \\in \\{\\text{clay, lead, silver, gold}\\}$ we have on hand.\n",
    "- $r_{c,i}$ is the amount of **ingredient** $i$ used to make **chip** $c$. \n",
    "\n",
    "\\begin{align*}\n",
    "&\\text{Maximize} \\space \\sum_c v_c*x_c \\\\\n",
    "&\\text{subject to:} \\\\\n",
    "&\\quad\\sum_{c}r_{c, i} * x_{c} \\le q_i, \\space \\text{for} \\space i \\in \\{\\text{clay, lead, silver, gold}\\} \\\\\n",
    "&\\quad x_c \\ge 0, \\forall c \\in \\text{Chips}\n",
    "\\end{align*}"
   ]
  },
  {
   "cell_type": "code",
   "execution_count": 43,
   "metadata": {},
   "outputs": [
    {
     "name": "stdout",
     "output_type": "stream",
     "text": [
      "Optimal solution found\n",
      "chips[one]: 180.0\n",
      "chips[five]: 0.0\n",
      "chips[ten]: 0.0\n",
      "chips[twenty-five]: 1.0\n",
      "chips[one hundred]: -0.0\n",
      "chips[five hundred]: 148.0\n",
      "chips[thousand]: 25.0\n",
      "Objective value: 99205.0\n"
     ]
    }
   ],
   "source": [
    "### Create a new model\n",
    "model = gp.Model(\"Poker Chips\")\n",
    "\n",
    "### Decision variables\n",
    "x = model.addVars(chips, vtype=GRB.INTEGER, name=\"chips\")\n",
    "\n",
    "### Ingredient constraint\n",
    "ingredient_usage = model.addConstrs((gp.quicksum(x[c] * recipes[c, i] for c in chips) <= on_hand[i] for i in ingredients), name=\"ingredient_usage\")\n",
    "\n",
    "### Objective function\n",
    "model.setObjective(gp.quicksum(x[i] * chips_data.value[i] for i in chips), sense=GRB.MAXIMIZE)\n",
    "\n",
    "### Optimize \n",
    "solve_and_print_solution(model,x,chips)"
   ]
  },
  {
   "cell_type": "markdown",
   "metadata": {},
   "source": [
    "## Decision expressions\n",
    "Some times it is helpful to store quantities of interest to help make code easier to read, reduce clutter, or get key values quickly.  \n",
    "\n",
    "Suppose we have grouped chip types into two categories: low and high value. High value chips are \\$100, \\$500, and \\$1000, with the rest being low value. \n",
    "\n",
    "Code the expressions below containing decision variables.\n",
    "\n",
    "Let's define some sets. \n",
    "- $C = \\{\\$1, \\$5, \\$10, \\$25, \\$100\\, \\$500, \\$1000\\}$\n",
    "- $H = \\{\\$100, \\$500, \\$1000\\}$\n",
    "- $L = C - H$\n",
    "\n",
    "\\begin{align*}\n",
    "\\text{total chips} &= \\sum_{c \\in C} x_c,   \\\\\n",
    "\\text{value of total chips} &= \\sum_{c \\in C} v_c*x_c   \\\\\n",
    "\\text{value of high chips} &= \\sum_{h \\in H} v_h * x_h    \\\\\n",
    "\\text{value of low chips} &= \\sum_{l \\in L} v_l*x_l    \\\\\n",
    "\\end{align*}"
   ]
  },
  {
   "cell_type": "code",
   "execution_count": 44,
   "metadata": {},
   "outputs": [],
   "source": [
    "high_chips = ['one hundred','five hundred', 'thousand']\n",
    "low_chips = [c for c in chips if c not in high_chips]\n",
    "\n",
    "### While we use `quicksum` here, there are more compact ways to write these. \n",
    "total_chips  = gp.quicksum(x[c] for c in chips)\n",
    "val_total_chips  = gp.quicksum(chips_data.value[c] * x[c] for c in chips)\n",
    "val_high_chips = gp.quicksum(chips_data.value[c] * x[c] for c in high_chips)\n",
    "val_low_chips  = gp.quicksum(chips_data.value[c] * x[c] for c in low_chips)\n",
    "\n",
    "# Update model object to apply changes \n",
    "model.update()"
   ]
  },
  {
   "cell_type": "code",
   "execution_count": 45,
   "metadata": {},
   "outputs": [
    {
     "data": {
      "text/plain": [
       "354.0"
      ]
     },
     "execution_count": 45,
     "metadata": {},
     "output_type": "execute_result"
    }
   ],
   "source": [
    "### Test your expressions here\n",
    "#val_low_chips.getValue() + val_high_chips.getValue()\n",
    "total_chips.getValue()"
   ]
  },
  {
   "cell_type": "markdown",
   "metadata": {},
   "source": [
    "## Changing our model"
   ]
  },
  {
   "cell_type": "markdown",
   "metadata": {},
   "source": [
    "### New objective function\n",
    "Instead of maximizing the total chip value, we are asked to maximize the total number of chips made. Write out and code this new objective"
   ]
  },
  {
   "cell_type": "markdown",
   "metadata": {},
   "source": [
    "\\begin{equation*}\n",
    "\\text{Maximize} \\space \\sum_{c \\in C} x_c\n",
    "\\end{equation*}"
   ]
  },
  {
   "cell_type": "code",
   "execution_count": 46,
   "metadata": {},
   "outputs": [
    {
     "name": "stdout",
     "output_type": "stream",
     "text": [
      "Optimal solution found\n",
      "chips[one]: 138.0\n",
      "chips[five]: -0.0\n",
      "chips[ten]: -0.0\n",
      "chips[twenty-five]: 0.0\n",
      "chips[one hundred]: 250.0\n",
      "chips[five hundred]: -0.0\n",
      "chips[thousand]: -0.0\n",
      "Objective value: 388.0\n"
     ]
    }
   ],
   "source": [
    "### Set the objective to maximize the number of chips\n",
    "model.setObjective(total_chips, GRB.MAXIMIZE)\n",
    "\n",
    "# When you call optimize, the model is updated automatically, no need to call model.update()\n",
    "solve_and_print_solution(model,x,chips)"
   ]
  },
  {
   "cell_type": "markdown",
   "metadata": {},
   "source": [
    "Note that we didn't have to do anything else other than re-run `setObjective`. "
   ]
  },
  {
   "cell_type": "markdown",
   "metadata": {},
   "source": [
    "### Proportion of total chips\n",
    "\n",
    "#### Formulate and code the following constraints\n",
    "- The value produced by high value chips cannot exceed the 50% of the value produced by low value chips.\n",
    "- Each of the of low value chips must be at least 15% of the total chips made and each of the high value chips cannot be more than 25%. \n",
    "- The \\$25 chip is our most used; make sure that it has the maximum number among all chips."
   ]
  },
  {
   "cell_type": "markdown",
   "metadata": {},
   "source": [
    "\\begin{equation*}\n",
    "\\sum_{h \\in H} v_h*x_h \\le 0.5*\\sum_{l \\in L} v_l*x_l\n",
    "\\end{equation*}"
   ]
  },
  {
   "cell_type": "code",
   "execution_count": 47,
   "metadata": {},
   "outputs": [
    {
     "name": "stdout",
     "output_type": "stream",
     "text": [
      "Optimal solution found\n",
      "chips[one]: 52.0\n",
      "chips[five]: -0.0\n",
      "chips[ten]: -0.0\n",
      "chips[twenty-five]: 286.0\n",
      "chips[one hundred]: 34.0\n",
      "chips[five hundred]: -0.0\n",
      "chips[thousand]: -0.0\n",
      "Objective value: 372.0\n"
     ]
    }
   ],
   "source": [
    "### The value produced by high value chips cannot exceed the 50% of the value produced by low value chips\n",
    "value_balance = model.addConstr(val_high_chips <= .5*val_low_chips, name='value_balance')\n",
    "\n",
    "solve_and_print_solution(model,x,chips)"
   ]
  },
  {
   "cell_type": "markdown",
   "metadata": {},
   "source": [
    "We stored each constraint as an object, which makes it easier to interact with these later. Now, let's remove the `value_balance` constraint. "
   ]
  },
  {
   "cell_type": "code",
   "execution_count": 48,
   "metadata": {},
   "outputs": [],
   "source": [
    "model.remove(value_balance)"
   ]
  },
  {
   "cell_type": "markdown",
   "metadata": {},
   "source": [
    "\\begin{align*}\n",
    "x_{l} \\le& 0.20*\\sum_{c \\in C} x_c, \\forall l\\in L \\\\\n",
    "x_{h} \\ge& 0.05*\\sum_{c \\in C} x_c, \\forall h\\in H \\\\\n",
    "\\end{align*}"
   ]
  },
  {
   "cell_type": "code",
   "execution_count": 49,
   "metadata": {},
   "outputs": [
    {
     "name": "stdout",
     "output_type": "stream",
     "text": [
      "Optimal solution found\n",
      "chips[one]: 74.0\n",
      "chips[five]: 74.0\n",
      "chips[ten]: 31.0\n",
      "chips[twenty-five]: 1.0\n",
      "chips[one hundred]: 152.0\n",
      "chips[five hundred]: 19.0\n",
      "chips[thousand]: 19.0\n",
      "Objective value: 370.0\n"
     ]
    }
   ],
   "source": [
    "low_chip_ub = model.addConstrs((x[l] <= 0.20 * total_chips for l in low_chips), name='low_chip_ub')\n",
    "high_chip_lb = model.addConstrs((x[h] >= 0.05 * total_chips for h in high_chips), name='high_chip_lb')\n",
    "\n",
    "solve_and_print_solution(model,x,chips)"
   ]
  },
  {
   "cell_type": "markdown",
   "metadata": {},
   "source": [
    "\\begin{align*}\n",
    "x_{ten} \\ge x_{c}, \\forall c \\in C-\\{\\$10\\}.\n",
    "\\end{align*}"
   ]
  },
  {
   "cell_type": "code",
   "execution_count": 50,
   "metadata": {},
   "outputs": [
    {
     "name": "stdout",
     "output_type": "stream",
     "text": [
      "Optimal solution found\n",
      "chips[one]: 72.0\n",
      "chips[five]: 72.0\n",
      "chips[ten]: 11.0\n",
      "chips[twenty-five]: 72.0\n",
      "chips[one hundred]: 72.0\n",
      "chips[five hundred]: 45.0\n",
      "chips[thousand]: 19.0\n",
      "Objective value: 363.0\n"
     ]
    }
   ],
   "source": [
    "### Use this set since this constraint doesn't need to apply to $25\n",
    "C_minus25 = [cc for cc in chips if cc != 'twenty-five']\n",
    "\n",
    "max_25 = model.addConstrs((x['twenty-five'] >= x[c] for c in [cc for cc in chips if cc != 'twenty-five']), name='max_25')\n",
    "\n",
    "solve_and_print_solution(model,x,chips)"
   ]
  },
  {
   "cell_type": "markdown",
   "metadata": {},
   "source": [
    "### Let's check in on our model and remove some constraints\n",
    "As you code a model, you may want to make sure adding variables, constraints, and the objective all go as planned."
   ]
  },
  {
   "cell_type": "code",
   "execution_count": 51,
   "metadata": {},
   "outputs": [
    {
     "name": "stdout",
     "output_type": "stream",
     "text": [
      "<gurobi.Model MIP instance Poker Chips: 17 constrs, 7 vars, Parameter changes: LicenseID=2620953, OutputFlag=0>\n"
     ]
    }
   ],
   "source": [
    "### Print the model object to get a quick summary\n",
    "print(model)\n",
    "\n",
    "### Writing a *.lp file is a great way to get a look at your model\n",
    "model.write('our_model.lp')"
   ]
  },
  {
   "cell_type": "markdown",
   "metadata": {},
   "source": [
    "The `Slack` of a constraint is the gap between the left-hand side and right-hand side values at the optimal solution. You can also think of this as how far the value is from it's bound, in our case upper bound. Printing this for the `ingredient_usage` constraints will show how much of each material is remaining. "
   ]
  },
  {
   "cell_type": "code",
   "execution_count": 52,
   "metadata": {},
   "outputs": [
    {
     "name": "stdout",
     "output_type": "stream",
     "text": [
      "Remaining clay: 8.0\n",
      "Remaining lead: 4.0\n",
      "Remaining gold: 12.0\n",
      "Remaining silver: 338.0\n"
     ]
    }
   ],
   "source": [
    "for i in ingredients:\n",
    "    print(f\"Remaining {i}: {ingredient_usage[i].Slack}\")"
   ]
  },
  {
   "cell_type": "code",
   "execution_count": 53,
   "metadata": {},
   "outputs": [
    {
     "data": {
      "text/plain": [
       "[<gurobi.Constr ingredient_usage[clay]>,\n",
       " <gurobi.Constr ingredient_usage[lead]>,\n",
       " <gurobi.Constr ingredient_usage[gold]>,\n",
       " <gurobi.Constr ingredient_usage[silver]>]"
      ]
     },
     "execution_count": 53,
     "metadata": {},
     "output_type": "execute_result"
    }
   ],
   "source": [
    "## Lets remove the Proportion of Chips constraints\n",
    "model.remove([low_chip_ub, high_chip_lb, max_25])\n",
    "model.update()\n",
    "\n",
    "## Look at which constraits remain in the model \n",
    "model.getConstrs()"
   ]
  },
  {
   "cell_type": "markdown",
   "metadata": {},
   "source": [
    "### Meet minimum demand requirements\n",
    "- View the chips data dataframe.\n",
    "- Write constraints and code to meet a minimum demand for each chip value. "
   ]
  },
  {
   "cell_type": "code",
   "execution_count": 54,
   "metadata": {},
   "outputs": [
    {
     "data": {
      "text/html": [
       "<div>\n",
       "<style scoped>\n",
       "    .dataframe tbody tr th:only-of-type {\n",
       "        vertical-align: middle;\n",
       "    }\n",
       "\n",
       "    .dataframe tbody tr th {\n",
       "        vertical-align: top;\n",
       "    }\n",
       "\n",
       "    .dataframe thead th {\n",
       "        text-align: right;\n",
       "    }\n",
       "</style>\n",
       "<table border=\"1\" class=\"dataframe\">\n",
       "  <thead>\n",
       "    <tr style=\"text-align: right;\">\n",
       "      <th></th>\n",
       "      <th>value</th>\n",
       "      <th>demand</th>\n",
       "      <th>cost</th>\n",
       "      <th>fixed_cost</th>\n",
       "    </tr>\n",
       "    <tr>\n",
       "      <th>chips</th>\n",
       "      <th></th>\n",
       "      <th></th>\n",
       "      <th></th>\n",
       "      <th></th>\n",
       "    </tr>\n",
       "  </thead>\n",
       "  <tbody>\n",
       "    <tr>\n",
       "      <th>one</th>\n",
       "      <td>1</td>\n",
       "      <td>30</td>\n",
       "      <td>0.05</td>\n",
       "      <td>10</td>\n",
       "    </tr>\n",
       "    <tr>\n",
       "      <th>five</th>\n",
       "      <td>5</td>\n",
       "      <td>40</td>\n",
       "      <td>0.10</td>\n",
       "      <td>20</td>\n",
       "    </tr>\n",
       "    <tr>\n",
       "      <th>ten</th>\n",
       "      <td>10</td>\n",
       "      <td>40</td>\n",
       "      <td>0.15</td>\n",
       "      <td>30</td>\n",
       "    </tr>\n",
       "    <tr>\n",
       "      <th>twenty-five</th>\n",
       "      <td>25</td>\n",
       "      <td>60</td>\n",
       "      <td>0.20</td>\n",
       "      <td>40</td>\n",
       "    </tr>\n",
       "    <tr>\n",
       "      <th>one hundred</th>\n",
       "      <td>100</td>\n",
       "      <td>20</td>\n",
       "      <td>0.25</td>\n",
       "      <td>50</td>\n",
       "    </tr>\n",
       "    <tr>\n",
       "      <th>five hundred</th>\n",
       "      <td>500</td>\n",
       "      <td>4</td>\n",
       "      <td>0.30</td>\n",
       "      <td>60</td>\n",
       "    </tr>\n",
       "    <tr>\n",
       "      <th>thousand</th>\n",
       "      <td>1000</td>\n",
       "      <td>2</td>\n",
       "      <td>0.35</td>\n",
       "      <td>70</td>\n",
       "    </tr>\n",
       "  </tbody>\n",
       "</table>\n",
       "</div>"
      ],
      "text/plain": [
       "              value  demand  cost  fixed_cost\n",
       "chips                                        \n",
       "one               1      30  0.05          10\n",
       "five              5      40  0.10          20\n",
       "ten              10      40  0.15          30\n",
       "twenty-five      25      60  0.20          40\n",
       "one hundred     100      20  0.25          50\n",
       "five hundred    500       4  0.30          60\n",
       "thousand       1000       2  0.35          70"
      ]
     },
     "execution_count": 54,
     "metadata": {},
     "output_type": "execute_result"
    }
   ],
   "source": [
    "### Print each chip here\n",
    "chips_data"
   ]
  },
  {
   "cell_type": "markdown",
   "metadata": {},
   "source": [
    "Let $d_c$ be the demand for chip $c$.\n",
    "\\begin{equation*}\n",
    "x_c \\ge d_c, \\forall c \\in C\n",
    "\\end{equation*}"
   ]
  },
  {
   "cell_type": "code",
   "execution_count": 55,
   "metadata": {},
   "outputs": [
    {
     "name": "stdout",
     "output_type": "stream",
     "text": [
      "Optimal solution found\n",
      "chips[one]: 67.0\n",
      "chips[five]: 40.0\n",
      "chips[ten]: 40.0\n",
      "chips[twenty-five]: 61.0\n",
      "chips[one hundred]: 162.0\n",
      "chips[five hundred]: 4.0\n",
      "chips[thousand]: 2.0\n",
      "Objective value: 376.0\n"
     ]
    }
   ],
   "source": [
    "### Ensure the production meets the minimal chip demand\n",
    "meet_demand = model.addConstrs((x[c] >= chips_data.demand[c] for c in chips), name=\"meet_demand\")\n",
    "\n",
    "solve_and_print_solution(model,x,chips)"
   ]
  },
  {
   "cell_type": "markdown",
   "metadata": {},
   "source": [
    "### Cost of making chips:\n",
    "- In the data frame above, we see there is a production cost per chip made. Write an expression for the total *variable cost* of chips made. \n",
    "- Make that the new objective to minimize total cost and solve. \n",
    "- Note that the demand constraints from before will still be active. "
   ]
  },
  {
   "cell_type": "markdown",
   "metadata": {},
   "source": [
    "Let $a_c$ be the variable cost of chip $c$. \n",
    "\\begin{align*}\n",
    "\\text{total variable cost} = &\\sum_c a_c*x_c  \\\\\n",
    "\\text{Minimize} &\\sum_c a_c*x_c\n",
    "\\end{align*}"
   ]
  },
  {
   "cell_type": "code",
   "execution_count": 56,
   "metadata": {},
   "outputs": [
    {
     "name": "stdout",
     "output_type": "stream",
     "text": [
      "Optimal solution found\n",
      "chips[one]: 30.0\n",
      "chips[five]: 40.0\n",
      "chips[ten]: 40.0\n",
      "chips[twenty-five]: 60.0\n",
      "chips[one hundred]: 20.0\n",
      "chips[five hundred]: 4.0\n",
      "chips[thousand]: 2.0\n",
      "Objective value: 30.4\n"
     ]
    }
   ],
   "source": [
    "### Variable cost chip making cost\n",
    "vCost_all_chips = sum(chips_data.cost[c] * x[c] for c in chips)\n",
    "\n",
    "model.setObjective(vCost_all_chips, GRB.MINIMIZE)\n",
    "\n",
    "solve_and_print_solution(model,x,chips)"
   ]
  },
  {
   "cell_type": "markdown",
   "metadata": {},
   "source": [
    "### Fixed costs: More decision variables\n",
    "Our production machine can only make chips of one value at a time. When we want to switch, it takes time to setup with new materials, which adds a fixed cost to each chip value. Given this, we have to decide whether or not we want to make each type of chip. If we decide to make at least one \\$10 chip, then we incur a cost of 30. \n",
    "\n",
    "Let's go step-by-step to add in the fixed costs for each chip and minimize the total costs, while meeting the above demand.\n",
    "- First define a new set of variables indexed by chip type and call them as `y`.\n",
    "- Write a constraint that links the number of chips made with the new binary variable (**HINT:** use the cheat sheet). \n",
    "- Don't resolve yet. \n"
   ]
  },
  {
   "cell_type": "markdown",
   "metadata": {},
   "source": [
    "Let $f_c$ be the fixed cost of chip $c$ and $y_c = 1$ if chip $c$ is made, $0$ otherwise. \n",
    "\n",
    "If we decide to make a \\$10 chip, then $x_{ten} > 0$ and we want to have the associated cost go from 0 to 30. \n",
    "\n",
    "So the constraint is\n",
    "\\begin{equation*}\n",
    "x_c \\le M*y_c, \\forall c \\in C\n",
    "\\end{equation*}\n",
    "\n",
    "But what do we choose for $M$?\n"
   ]
  },
  {
   "cell_type": "code",
   "execution_count": 57,
   "metadata": {},
   "outputs": [],
   "source": [
    "y = model.addVars(chips, vtype=GRB.BINARY, name=\"make\")\n",
    "\n",
    "### Link binary variable to chip production using `big-M` constraints\n",
    "M = 500\n",
    "model.addConstrs((x[c] <= M * y[c] for c in chips), name=\"link_x_y\")\n",
    "model.update()"
   ]
  },
  {
   "cell_type": "markdown",
   "metadata": {},
   "source": [
    "### Fixed costs: Combining costs\n",
    "- Write an expression that finds the total fixed costs using the new variable and the `fixed_cost` column from `chips_data`.\n",
    "- Add that to the variable cost expression and set that as the new objective\n",
    "- Solve!"
   ]
  },
  {
   "cell_type": "markdown",
   "metadata": {},
   "source": [
    "\\begin{align*}\n",
    "&\\text{total fixed cost} = \\sum_c f_c*y_c  \\\\\n",
    "\\text{total cost} = \\space&\\text{total fixed cost}  + \\text{total variable cost} = \\sum_c f_c*y_c + a_c*x_c \n",
    "\\end{align*}"
   ]
  },
  {
   "cell_type": "code",
   "execution_count": 58,
   "metadata": {},
   "outputs": [
    {
     "name": "stdout",
     "output_type": "stream",
     "text": [
      "Optimal solution found\n",
      "chips[one]: 30.0\n",
      "chips[five]: 40.0\n",
      "chips[ten]: 40.0\n",
      "chips[twenty-five]: 60.0\n",
      "chips[one hundred]: 20.0\n",
      "chips[five hundred]: 4.0\n",
      "chips[thousand]: 2.0\n",
      "make[one]: 1.0\n",
      "make[five]: 1.0\n",
      "make[ten]: 1.0\n",
      "make[twenty-five]: 1.0\n",
      "make[one hundred]: 1.0\n",
      "make[five hundred]: 1.0\n",
      "make[thousand]: 1.0\n",
      "Objective value: 310.4\n"
     ]
    }
   ],
   "source": [
    "fCost_all_chips = gp.quicksum(chips_data.fixed_cost[c] * y[c] for c in chips)\n",
    "tCost_all_chips = vCost_all_chips + fCost_all_chips\n",
    "\n",
    "model.setObjective(tCost_all_chips)\n",
    "\n",
    "solve_and_print_solution(model,x,chips)"
   ]
  },
  {
   "cell_type": "markdown",
   "metadata": {},
   "source": [
    "Let's remove the demand constraint and see what happens. "
   ]
  },
  {
   "cell_type": "code",
   "execution_count": 59,
   "metadata": {},
   "outputs": [
    {
     "name": "stdout",
     "output_type": "stream",
     "text": [
      "Optimal solution found\n",
      "chips[one]: 138.0\n",
      "chips[five]: -0.0\n",
      "chips[ten]: -0.0\n",
      "chips[twenty-five]: 0.0\n",
      "chips[one hundred]: 250.0\n",
      "chips[five hundred]: -0.0\n",
      "chips[thousand]: -0.0\n",
      "make[one]: 1.0\n",
      "make[five]: 1.0\n",
      "make[ten]: 1.0\n",
      "make[twenty-five]: 1.0\n",
      "make[one hundred]: 1.0\n",
      "make[five hundred]: 1.0\n",
      "make[thousand]: 1.0\n",
      "Objective value: 388.0\n"
     ]
    }
   ],
   "source": [
    "model.remove(meet_demand)\n",
    "model.setObjective(total_chips, sense=GRB.MAXIMIZE)\n",
    "solve_and_print_solution(model,x,chips)"
   ]
  },
  {
   "cell_type": "markdown",
   "metadata": {},
   "source": [
    "### Logical constraints with binary variables\n",
    "Now that we have binary decision variables that show which chip types are made, we can model logical relationships between them. Model the following statements and write `gurobipy` code. \n",
    "\n",
    "We won't solve a model with these. \n",
    "- We **can** make either \\$500 **or** \\$1000 chips, and **possibly both** (at least one).\n",
    "- We **must** make either \\$500 **or** \\$1000 chips, but **not both** (exactly one).\n",
    "- We make between 2 and 3 types of low value. "
   ]
  },
  {
   "cell_type": "markdown",
   "metadata": {},
   "source": [
    "- We **can** make either \\$500 **or** \\$1000 chips, and **possibly both** (at least one).\n",
    "\\begin{equation*}\n",
    "y_{five\\space hundred} + y_{thousand} \\le 1 \n",
    "\\end{equation*}\n",
    "\n",
    "- We **must** make either \\$500 **or** \\$1000 chips, but **not both** (exactly one).\n",
    "\\begin{equation*}\n",
    "y_{five\\space hundred} + y_{thousand} = 1 \n",
    "\\end{equation*}\n",
    "\n",
    "- We make between 2 and 3 types of low value. \n",
    "\\begin{equation*}\n",
    "2 \\le \\sum_l y_l \\le 3\n",
    "\\end{equation*}"
   ]
  },
  {
   "cell_type": "code",
   "execution_count": 60,
   "metadata": {},
   "outputs": [
    {
     "data": {
      "text/plain": [
       "<gurobi.Constr *Awaiting Model Update*>"
      ]
     },
     "execution_count": 60,
     "metadata": {},
     "output_type": "execute_result"
    }
   ],
   "source": [
    "# We can make either $500 or $1000 chips, but not both (at most one)\n",
    "model.addConstr(y['five hundred'] + y['thousand'] <= 1, name=\"at_most_one_high_value\")\n",
    "\n",
    "# We must make either $500 or $1000 chips, but not both (exactly one)\n",
    "model.addConstr(y['five hundred'] + y['thousand'] == 1, name=\"exactly_one_high_value\")\n",
    "\n",
    "# We make between 2 and 3 types of low value and exactly one of the high value chips\n",
    "model.addConstr(gp.quicksum(y[l] for l in low_chips) >= 2, name=\"min_low_value_types\")\n",
    "model.addConstr(gp.quicksum(y[l] for l in low_chips) <= 3, name=\"max_low_value_types\")\n",
    "\n",
    "### Another shortcut using the gurobipy API\n",
    "model.addConstr(gp.quicksum(y[l] for l in low_chips) == [2,3], name=\"max_low_value_types\")\n"
   ]
  },
  {
   "cell_type": "markdown",
   "metadata": {},
   "source": [
    "### Conditional statements\n",
    "- If we make \\$1 chips, then we **must** make \\$5 chips.\n",
    "- If we make \\$1 chips, then we **must** make \\$5 **and** \\$10 chips.\n",
    "- If we make \\$1 chips, then we **must** make \\$5 **or** \\$10 chips (or both). "
   ]
  },
  {
   "cell_type": "markdown",
   "metadata": {},
   "source": [
    "- If we make \\$1 chips, then we **must** make \\$5 chips.\n",
    "\\begin{align*}\n",
    "y_{one} &\\le y_{five} \\quad\\quad\\quad\\space\n",
    "\\end{align*}\n",
    "\n",
    "- If we make \\$1 chips, then we **must** make \\$5 **and** \\$10 chips.\n",
    "\n",
    "\\begin{align*}\n",
    "y_{one} &\\le y_{five}, \\\\\n",
    "y_{one} &\\le y_{ten} \\\\\n",
    "&\\text{or} \\\\\n",
    "2*y_{one} &\\le y_{five} + y_{ten}\n",
    "\\end{align*}\n",
    "\n",
    "- If we make \\$1 chips, then we **must** make \\$5 **or** \\$10 chips (or both). \n",
    "\n",
    "\\begin{align*}\n",
    "\\quad y_{one} &\\le y_{five} + y_{ten}\n",
    "\\end{align*}\n"
   ]
  },
  {
   "cell_type": "code",
   "execution_count": 61,
   "metadata": {},
   "outputs": [
    {
     "data": {
      "text/plain": [
       "<gurobi.Constr *Awaiting Model Update*>"
      ]
     },
     "execution_count": 61,
     "metadata": {},
     "output_type": "execute_result"
    }
   ],
   "source": [
    "#### Logistical constraint candidates:\n",
    "\n",
    "### If we make $1 chips, then we must make $5 chips\n",
    "model.addConstr(y['one'] <= y['five'], name=\"one_implies_five\")\n",
    "\n",
    "### If we make $1 chips, then we must make $5 and $10 chips\n",
    "model.addConstr(y['one'] <= y['five'], name=\"one_implies_five\")\n",
    "model.addConstr(y['one'] <= y['ten'], name=\"one_implies_ten\")\n",
    "\n",
    "model.addConstr(2*y['one'] <= y['five'] + y['ten'], name=\"one_implies_ten\")\n",
    "\n",
    "### If we make $1 chips, then we must make $5 or $10 chips\n",
    "model.addConstr(y['one'] <= y['five'] + y['ten'], name=\"one_implies_ten\")"
   ]
  },
  {
   "cell_type": "markdown",
   "metadata": {},
   "source": [
    "## Multi-objective optimization\n",
    "- We are asked to maximize the total chip value made while minimizing costs. \n",
    "- Math optimization cannot **simultaneously** work on two objectives -- there's always a tradeoff. \n",
    "- Two types on multi-objective: hierarchical, and weighted (blended).\n",
    "- After talking more about how we want to prioritize the objectives, we want to:\n",
    "    - First minimize the **total costs** (both fixed and variable) to meet demand. \n",
    "    - Then maximize the total value of chips produced while not decreasing chip value by 10%\n",
    "- Also include the following constraints we already discussed:\n",
    "    - Ingredient limits\n",
    "    - Meet demand\n",
    "    - Make the most \\$25 chips"
   ]
  },
  {
   "cell_type": "markdown",
   "metadata": {},
   "source": [
    "### DIY hierarchical multi-objective optimzation\n",
    "- Solve the a model that maximizes the total chip value made.\n",
    "- Add a new constraint that uses this objective value as a new bound on total chip value. Let $z$ be this value.\n",
    "\\begin{equation*}\n",
    "\\sum_c v_c*x_c \\ge 0.9*z\n",
    "\\end{equation*}\n",
    "- Set the new objective to minimize total cost, as before. \n",
    "- Solve!"
   ]
  },
  {
   "cell_type": "code",
   "execution_count": 62,
   "metadata": {},
   "outputs": [
    {
     "name": "stdout",
     "output_type": "stream",
     "text": [
      "Optimal solution found\n",
      "chips[one]: 72.0\n",
      "chips[five]: 40.0\n",
      "chips[ten]: 40.0\n",
      "chips[twenty-five]: 72.0\n",
      "chips[one hundred]: 21.0\n",
      "chips[five hundred]: 72.0\n",
      "chips[thousand]: 25.0\n",
      "make[one]: 1.0\n",
      "make[five]: 1.0\n",
      "make[ten]: 1.0\n",
      "make[twenty-five]: 1.0\n",
      "make[one hundred]: 1.0\n",
      "make[five hundred]: 1.0\n",
      "make[thousand]: 1.0\n",
      "Objective value: 65572.0\n"
     ]
    }
   ],
   "source": [
    "model = gp.Model(\"Poker Chips\")\n",
    "\n",
    "M = 500\n",
    "\n",
    "### Decision variables\n",
    "x = model.addVars(chips, vtype=GRB.INTEGER, name=\"chips\")\n",
    "y = model.addVars(chips, vtype=GRB.BINARY, name=\"make\")\n",
    "\n",
    "### Other expressions\n",
    "val_total_chips  = gp.quicksum(chips_data.value[c] * x[c] for c in chips)\n",
    "vCost_all_chips = sum(chips_data.cost[c] * x[c] for c in chips)\n",
    "fCost_all_chips = gp.quicksum(chips_data.fixed_cost[c] * y[c] for c in chips)\n",
    "tCost_all_chips = vCost_all_chips + fCost_all_chips\n",
    "\n",
    "### Constraints\n",
    "ingredient_usage = model.addConstrs((gp.quicksum(x[c] * recipes[c, i] for c in chips) <= on_hand[i] for i in ingredients), name=\"ingredient_usage\")\n",
    "max_25 = model.addConstrs((x['twenty-five'] >= x[c] for c in [cc for cc in chips if cc != 'twenty-five']), name='max_25')\n",
    "meet_demand = model.addConstrs((x[c] >= chips_data.demand[c] for c in chips), name=\"meet_demand\")\n",
    "link_x_y = model.addConstrs((x[c] <= M * y[c] for c in chips), name=\"link_x_y\")\n",
    "\n",
    "### First Objective\n",
    "model.setObjective(val_total_chips, sense=GRB.MAXIMIZE)\n",
    "\n",
    "solve_and_print_solution(model,x,chips)"
   ]
  },
  {
   "cell_type": "code",
   "execution_count": null,
   "metadata": {},
   "outputs": [],
   "source": [
    "z = model.ObjVal\n",
    "print(z)\n",
    "multi_obj = model.addConstr(val_total_chips >= 0.9*z)\n",
    "model.setObjective(tCost_all_chips)\n",
    "solve_and_print_solution(model,x,chips)"
   ]
  },
  {
   "cell_type": "code",
   "execution_count": null,
   "metadata": {},
   "outputs": [],
   "source": [
    "print(0.9*z)\n",
    "val_total_chips.getValue()"
   ]
  },
  {
   "cell_type": "markdown",
   "metadata": {},
   "source": [
    "#### Homework!\n",
    "Use the **cheat sheet** to do this using the `gurobipy` multi-objective functionality."
   ]
  },
  {
   "cell_type": "code",
   "execution_count": null,
   "metadata": {},
   "outputs": [],
   "source": [
    "model.dispose()"
   ]
  }
 ],
 "metadata": {
  "kernelspec": {
   "display_name": "Python 3",
   "language": "python",
   "name": "python3"
  },
  "language_info": {
   "codemirror_mode": {
    "name": "ipython",
    "version": 3
   },
   "file_extension": ".py",
   "mimetype": "text/x-python",
   "name": "python",
   "nbconvert_exporter": "python",
   "pygments_lexer": "ipython3",
   "version": "3.12.8"
  }
 },
 "nbformat": 4,
 "nbformat_minor": 4
}
